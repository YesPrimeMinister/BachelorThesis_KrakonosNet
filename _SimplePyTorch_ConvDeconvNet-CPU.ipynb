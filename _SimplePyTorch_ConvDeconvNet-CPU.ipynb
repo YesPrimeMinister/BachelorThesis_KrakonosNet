{
 "cells": [
  {
   "cell_type": "code",
   "execution_count": 1,
   "metadata": {},
   "outputs": [],
   "source": [
    "import os\n",
    "import torch\n",
    "import numpy as np\n",
    "import imageio\n",
    "import matplotlib\n",
    "import matplotlib.pyplot as plt\n",
    "import torch.nn as nn\n",
    "import torch.optim as optim\n",
    "from time import time as time\n",
    "\n",
    "from sklearn.metrics import confusion_matrix\n",
    "import torchnet as tnt\n",
    "import functools\n",
    "\n",
    "import mock\n",
    "from tqdm import tqdm_notebook as tqdm\n",
    "\n",
    "\n",
    "# GLOBAL SETTINGS\n",
    "PlotSize = 8                                     # Size of plots\n",
    "matplotlib.rcParams['figure.figsize'] = [PlotSize*2, PlotSize]  \n",
    "CMAP = matplotlib.colors.ListedColormap(['black', 'white', 'orange'])               # Color mapping \n",
    "np.set_printoptions(precision=2, suppress=True)  # Array print precision\n",
    "\n",
    "# CLASS AND FEATURE DESCRIPTION\n",
    "class_names = ['BACKGRD','PINUS','PICEA']\n",
    "feature_names = ['NIR','RED','GREEN']\n",
    "num_classes = len(class_names)\n",
    "num_features = len(feature_names)\n",
    "\n",
    "# PATHS TO TRAIN/TEST DATA\n",
    "data_path = '../data/split_05__05/'\n",
    "training_set_path = data_path + 'train/'         # Relative path to training patch root folder\n",
    "test_set_path =     data_path + 'test/'          # Relative path to test patch root folder\n",
    "\n",
    "num_of_training_tiles = len(os.listdir(training_set_path + 'GT/'))\n",
    "num_of_test_tiles = len(os.listdir(test_set_path + 'GT/'))\n",
    "\n",
    "# USE CIR OR RGB DATA\n",
    "use_cir = True\n",
    "use_rgb = True"
   ]
  },
  {
   "cell_type": "code",
   "execution_count": 2,
   "metadata": {},
   "outputs": [
    {
     "name": "stdout",
     "output_type": "stream",
     "text": [
      "True\n",
      "1\n",
      "GeForce 940MX\n",
      "(5, 0)\n",
      "|===========================================================================|\n",
      "|                  PyTorch CUDA memory summary, device ID 0                 |\n",
      "|---------------------------------------------------------------------------|\n",
      "|            CUDA OOMs: 0            |        cudaMalloc retries: 0         |\n",
      "|===========================================================================|\n",
      "|        Metric         | Cur Usage  | Peak Usage | Tot Alloc  | Tot Freed  |\n",
      "|---------------------------------------------------------------------------|\n",
      "| Allocated memory      |       0 B  |       0 B  |       0 B  |       0 B  |\n",
      "|       from large pool |       0 B  |       0 B  |       0 B  |       0 B  |\n",
      "|       from small pool |       0 B  |       0 B  |       0 B  |       0 B  |\n",
      "|---------------------------------------------------------------------------|\n",
      "| Active memory         |       0 B  |       0 B  |       0 B  |       0 B  |\n",
      "|       from large pool |       0 B  |       0 B  |       0 B  |       0 B  |\n",
      "|       from small pool |       0 B  |       0 B  |       0 B  |       0 B  |\n",
      "|---------------------------------------------------------------------------|\n",
      "| GPU reserved memory   |       0 B  |       0 B  |       0 B  |       0 B  |\n",
      "|       from large pool |       0 B  |       0 B  |       0 B  |       0 B  |\n",
      "|       from small pool |       0 B  |       0 B  |       0 B  |       0 B  |\n",
      "|---------------------------------------------------------------------------|\n",
      "| Non-releasable memory |       0 B  |       0 B  |       0 B  |       0 B  |\n",
      "|       from large pool |       0 B  |       0 B  |       0 B  |       0 B  |\n",
      "|       from small pool |       0 B  |       0 B  |       0 B  |       0 B  |\n",
      "|---------------------------------------------------------------------------|\n",
      "| Allocations           |       0    |       0    |       0    |       0    |\n",
      "|       from large pool |       0    |       0    |       0    |       0    |\n",
      "|       from small pool |       0    |       0    |       0    |       0    |\n",
      "|---------------------------------------------------------------------------|\n",
      "| Active allocs         |       0    |       0    |       0    |       0    |\n",
      "|       from large pool |       0    |       0    |       0    |       0    |\n",
      "|       from small pool |       0    |       0    |       0    |       0    |\n",
      "|---------------------------------------------------------------------------|\n",
      "| GPU reserved segments |       0    |       0    |       0    |       0    |\n",
      "|       from large pool |       0    |       0    |       0    |       0    |\n",
      "|       from small pool |       0    |       0    |       0    |       0    |\n",
      "|---------------------------------------------------------------------------|\n",
      "| Non-releasable allocs |       0    |       0    |       0    |       0    |\n",
      "|       from large pool |       0    |       0    |       0    |       0    |\n",
      "|       from small pool |       0    |       0    |       0    |       0    |\n",
      "|===========================================================================|\n",
      "\n"
     ]
    }
   ],
   "source": [
    "print(torch.cuda.is_available())\n",
    "print(torch.cuda.device_count())\n",
    "\n",
    "print(torch.cuda.get_device_name())\n",
    "print(torch.cuda.get_device_capability())\n",
    "torch.cuda.empty_cache()\n",
    "print(torch.cuda.memory_summary())"
   ]
  },
  {
   "cell_type": "code",
   "execution_count": 10,
   "metadata": {},
   "outputs": [],
   "source": [
    "def read_patch(root_folder, cir=True, rgb=True):\n",
    "    ##########################################################\n",
    "    # READ IMAGES as FLOAT\n",
    "    \n",
    "    if cir:\n",
    "        cir_file_list = os.listdir(root_folder + 'CIR/')\n",
    "        cir_list = []\n",
    "        \n",
    "        for file in cir_file_list:\n",
    "            cir_patch = imageio.imread(root_folder + 'CIR/' + file).astype(np.float32)\n",
    "    \n",
    "            cir_list.append(cir_patch[:,:,:].transpose([2,0,1]))\n",
    "            del cir_patch\n",
    "\n",
    "        cir_features = np.stack(cir_list, axis=0)\n",
    "    \n",
    "    \n",
    "    if rgb:\n",
    "        rgb_file_list = os.listdir(root_folder + 'RGB/')\n",
    "        rgb_list = []\n",
    "        \n",
    "        for file in rgb_file_list:\n",
    "            rgb_patch = imageio.imread(root_folder + 'RGB/' + file).astype(np.float32)\n",
    "    \n",
    "            rgb_list.append(rgb_patch[:,:,:].transpose([2,0,1]))\n",
    "            del rgb_patch\n",
    "        \n",
    "        rgb_features = np.stack(rgb_list, axis=0)\n",
    "\n",
    "\n",
    "    gt_file_list = os.listdir(root_folder + 'GT/')\n",
    "    gt_list = []\n",
    "\n",
    "    for file in gt_file_list:\n",
    "        gt_patch = imageio.imread(root_folder + 'GT/' + file).astype(np.int64)\n",
    " \n",
    "        gt_list.append(gt_patch[:,:])\n",
    "        del gt_patch\n",
    "\n",
    "    \n",
    "    if cir and rgb:\n",
    "        features = np.concatenate([cir_features, rgb_features], axis=1)\n",
    "    elif cir:\n",
    "        features = cir_features\n",
    "    elif rgb:\n",
    "        features = rgb_features\n",
    "    else:\n",
    "        print('No valid data input.')\n",
    "    \n",
    "    ground_truth = np.stack(gt_list, axis=0)\n",
    "\n",
    "    features = torch.from_numpy(features)\n",
    "    ground_truth = torch.from_numpy(ground_truth)\n",
    "    \n",
    "    ########################################################## \n",
    "    return features, ground_truth"
   ]
  },
  {
   "cell_type": "code",
   "execution_count": 11,
   "metadata": {
    "scrolled": true
   },
   "outputs": [
    {
     "name": "stdout",
     "output_type": "stream",
     "text": [
      "torch.Size([20, 6, 500, 500])\n",
      "torch.Size([20, 6, 500, 500])\n",
      "20\n"
     ]
    }
   ],
   "source": [
    "#putting the dataset into the TensorDataset wrapper\n",
    "X, y = read_patch(training_set_path, use_cir, use_rgb)\n",
    "X_t, y_t = read_patch(test_set_path, use_cir, use_rgb)\n",
    "\n",
    "print(X.shape)\n",
    "print(X_t.shape)\n",
    "\n",
    "train_set = tnt.dataset.TensorDataset(list([X, y]))\n",
    "test_set  = tnt.dataset.TensorDataset(list([X_t, y_t]))\n",
    "print(len(train_set))"
   ]
  },
  {
   "cell_type": "code",
   "execution_count": 5,
   "metadata": {},
   "outputs": [],
   "source": [
    "class ConfusionMatrix:\n",
    "    def __init__(self, n_class, class_names):\n",
    "        self.CM = np.zeros((n_class, n_class))\n",
    "        self.n_class = n_class\n",
    "        self.class_names = class_names\n",
    "  \n",
    "    def clear(self):\n",
    "        self.CM = np.zeros((self.n_class, self.n_class))\n",
    "    \n",
    "    def add_batch(self, gt, pred):\n",
    "        self.CM +=  confusion_matrix(gt, pred, labels = list(range(self.n_class)))\n",
    "    \n",
    "    def overall_accuracy(self):#percentage of correct classification\n",
    "        return 100*self.CM.trace() / self.CM.sum()\n",
    "\n",
    "    def class_IoU(self, show = 1):\n",
    "        ious = np.full(self.n_class, 0.)\n",
    "        for i_class in range(self.n_class):\n",
    "            ious[i_class] = self.CM[i_class, i_class] / \\\n",
    "                (-self.CM[i_class, i_class] \\\n",
    "                + self.CM[i_class, :].sum()\n",
    "                + self.CM[:, i_class].sum())\n",
    "        if show:\n",
    "            print('  |  '.join('{} : {:3.2f}%'.format(name, 100*iou) for name, iou in zip(self.class_names,ious)))\n",
    "        #do not count classes that are not present in the dataset in the mean IoU\n",
    "        return 100*np.nansum(ious) / (np.logical_not(np.isnan(ious))).sum()"
   ]
  },
  {
   "cell_type": "code",
   "execution_count": null,
   "metadata": {
    "scrolled": true
   },
   "outputs": [],
   "source": [
    "m = ConfusionMatrix(3, class_names)\n",
    "m.add_batch(np.array([0,1,1,1,2,0,0,2,0,2,1]), np.array([0,1,0,0,2,0,1,2,0,2,1]))\n",
    "m.add_batch(np.array([0,1,2,1,2,1,0,2,1]), np.array([0,1,1,1,2,1,0,2,0]))\n",
    "print(m.CM)\n",
    "print(\"OA = %3.2f%%\" % (m.overall_accuracy()))\n",
    "m.class_IoU()\n",
    "m.clear()"
   ]
  },
  {
   "cell_type": "code",
   "execution_count": 6,
   "metadata": {},
   "outputs": [],
   "source": [
    "class SegNet(nn.Module):\n",
    "    \"\"\"\n",
    "    SegNet network for semantic segmentation\n",
    "    \"\"\"\n",
    "  \n",
    "    def __init__(self, n_channels, encoder_conv_width, decoder_conv_width, n_class, cuda = 0):\n",
    "        \"\"\"\n",
    "        initialization function\n",
    "        n_channels, int, number of input channel\n",
    "        encoder_conv_width, int list, size of the feature maps of convs for the encoder\n",
    "        decoder_conv_width, int list, size of the feature maps of convs for the decoder\n",
    "        n_class = int,  the number of classes\n",
    "        \"\"\"\n",
    "        super(SegNet, self).__init__() #necessary for all classes extending the module class\n",
    "    \n",
    "        assert((encoder_conv_width[3] == encoder_conv_width[5]) \\\n",
    "            and (encoder_conv_width[1] == decoder_conv_width[1]))\n",
    "    \n",
    "        self.maxpool=nn.MaxPool2d(2,2,return_indices=True) #maxpooling layer\n",
    "        self.unpool=nn.MaxUnpool2d(2,2) #unpooling layer\n",
    "    \n",
    "        #encoder\n",
    "        self.c1 = nn.Sequential(nn.Conv2d(n_channels,encoder_conv_width[0],3,padding=1, padding_mode='reflect'),nn.BatchNorm2d(encoder_conv_width[0]),nn.ReLU(True))\n",
    "        self.c2 = nn.Sequential(nn.Conv2d(encoder_conv_width[0],encoder_conv_width[1],3,padding=1, padding_mode='reflect'),nn.BatchNorm2d(encoder_conv_width[1]),nn.ReLU(True))\n",
    "        self.c3 = nn.Sequential(nn.Conv2d(encoder_conv_width[1],encoder_conv_width[2],3,padding=1, padding_mode='reflect'),nn.BatchNorm2d(encoder_conv_width[2]),nn.ReLU(True))\n",
    "        self.c4 = nn.Sequential(nn.Conv2d(encoder_conv_width[2],encoder_conv_width[3],3,padding=1, padding_mode='reflect'),nn.BatchNorm2d(encoder_conv_width[3]),nn.ReLU(True))\n",
    "        self.c5 = nn.Sequential(nn.Conv2d(encoder_conv_width[3],encoder_conv_width[4],3,padding=1, padding_mode='reflect'),nn.BatchNorm2d(encoder_conv_width[4]),nn.ReLU(True))\n",
    "        self.c6 = nn.Sequential(nn.Conv2d(encoder_conv_width[4],encoder_conv_width[5],3,padding=1, padding_mode='reflect'),nn.BatchNorm2d(encoder_conv_width[5]),nn.ReLU(True))\n",
    "        #decoder\n",
    "        self.c7=nn.Sequential(nn.Conv2d(encoder_conv_width[5]+encoder_conv_width[3],decoder_conv_width[0],3,padding=1, padding_mode='reflect'),nn.BatchNorm2d(decoder_conv_width[0]),nn.ReLU(True))\n",
    "        self.c8=nn.Sequential(nn.Conv2d(decoder_conv_width[0],decoder_conv_width[1],3,padding=1, padding_mode='reflect'),nn.BatchNorm2d(decoder_conv_width[1]),nn.ReLU(True))       \n",
    "        self.c9=nn.Sequential(nn.Conv2d(encoder_conv_width[1] + decoder_conv_width[1],decoder_conv_width[2],3,padding=1, padding_mode='reflect'),nn.BatchNorm2d(decoder_conv_width[2]),nn.ReLU(True))\n",
    "        self.c10=nn.Sequential(nn.Conv2d(decoder_conv_width[2],decoder_conv_width[3],3,padding=1, padding_mode='reflect'),nn.BatchNorm2d(decoder_conv_width[3]),nn.ReLU(True))\n",
    "        #final classifying layer\n",
    "        self.classifier=nn.Conv2d(decoder_conv_width[3],n_class,3,padding=1, padding_mode='reflect')\n",
    "\n",
    "        #weight initialization\n",
    "\n",
    "        self.c1[0].apply(self.init_weights)\n",
    "        self.c2[0].apply(self.init_weights)\n",
    "        self.c3[0].apply(self.init_weights)\n",
    "        self.c4[0].apply(self.init_weights)\n",
    "        self.c5[0].apply(self.init_weights)\n",
    "        self.c6[0].apply(self.init_weights)\n",
    "        self.c7[0].apply(self.init_weights)\n",
    "        self.c8[0].apply(self.init_weights)\n",
    "        self.c9[0].apply(self.init_weights)\n",
    "        self.c10[0].apply(self.init_weights)\n",
    "        self.classifier.apply(self.init_weights)\n",
    "    \n",
    "        if cuda: #put the model on the GPU memory\n",
    "            self.cuda()\n",
    "    \n",
    "    def init_weights(self,layer): #gaussian init for the conv layers\n",
    "        nn.init.kaiming_normal_(layer.weight, mode='fan_out', nonlinearity='relu')\n",
    "    \n",
    "    def forward(self,input):\n",
    "        \"\"\"\n",
    "        the function called to run inference\n",
    "        \"\"\"  \n",
    "        #encoder\n",
    "        #level 1\n",
    "        x1 = self.c2(self.c1(input))\n",
    "        x2, indices_a_b =self.maxpool(x1)\n",
    "        #level 2\n",
    "        x3=self.c4(self.c3(x2))\n",
    "        x4, indices_b_c =self.maxpool(x3)\n",
    "        #level 3\n",
    "        x5 = self.c6(self.c5(x4))\n",
    "        #decoder\n",
    "        #level 2       \n",
    "        y4 = self.unpool(x5, indices_b_c)\n",
    "        y3 = self.c8(self.c7(torch.cat((y4,x3),1)))\n",
    "        #level 1       \n",
    "        y2 = self.unpool(y3, indices_a_b)\n",
    "        y1 = self.c10(self.c9(torch.cat((y2,x1),1)))\n",
    "        #output         \n",
    "        out = self.classifier(y1)\n",
    "    \n",
    "        return out\n",
    "    \n",
    "    \"\"\"\n",
    "    #encoder\n",
    "    self.c1 = nn.Sequential(nn.Conv2d(n_channels,encoder_conv_width[0],3,padding=1, padding_mode='reflect'),nn.BatchNorm2d(encoder_conv_width[0]),nn.ReLU(True))\n",
    "    self.c2 = nn.Sequential(nn.Conv2d(encoder_conv_width[0],encoder_conv_width[1],3,padding=1, padding_mode='reflect'),nn.BatchNorm2d(encoder_conv_width[1]),nn.ReLU(True))\n",
    "    self.c3 = nn.Sequential(nn.Conv2d(encoder_conv_width[1],encoder_conv_width[2],3,padding=1, padding_mode='reflect'),nn.BatchNorm2d(encoder_conv_width[2]),nn.ReLU(True))\n",
    "    self.c4 = nn.Sequential(nn.Conv2d(encoder_conv_width[2],encoder_conv_width[3],3,padding=1, padding_mode='reflect'),nn.BatchNorm2d(encoder_conv_width[3]),nn.ReLU(True))\n",
    "    \n",
    "    self.c9=nn.Sequential(nn.Conv2d(encoder_conv_width[1] + encoder_conv_width[3],decoder_conv_width[0],3,padding=1, padding_mode='reflect'),nn.BatchNorm2d(decoder_conv_width[0]),nn.ReLU(True))\n",
    "    self.c10=nn.Sequential(nn.Conv2d(decoder_conv_width[0],decoder_conv_width[1],3,padding=1, padding_mode='reflect'),nn.BatchNorm2d(decoder_conv_width[0]),nn.ReLU(True))\n",
    "    #final classifying layer\n",
    "    self.classifier=nn.Conv2d(decoder_conv_width[1],n_class,3,padding=1, padding_mode='reflect')\n",
    "\n",
    "    #weight initialization\n",
    "\n",
    "    self.c1[0].apply(self.init_weights)\n",
    "    self.c2[0].apply(self.init_weights)\n",
    "    self.c3[0].apply(self.init_weights)\n",
    "    self.c4[0].apply(self.init_weights)\n",
    "    self.c9[0].apply(self.init_weights)\n",
    "    self.c10[0].apply(self.init_weights)\n",
    "    self.classifier.apply(self.init_weights)\n",
    "    \n",
    "    if cuda: #put the model on the GPU memory\n",
    "      self.cuda()\n",
    "    \n",
    "  def init_weights(self,layer): #gaussian init for the conv layers\n",
    "    nn.init.kaiming_normal_(layer.weight, mode='fan_out', nonlinearity='relu')\n",
    "    \n",
    "  def forward(self,input):\n",
    "\n",
    "    #encoder\n",
    "    #level 1\n",
    "    x1 = self.c2(self.c1(input))\n",
    "    x2, indices_a_b =self.maxpool(x1)\n",
    "    #level 2\n",
    "    x3=self.c4(self.c3(x2))\n",
    "    \n",
    "    #decoder\n",
    "    #level 1       \n",
    "    y2 = self.unpool(x3, indices_a_b)\n",
    "    y1 = self.c10(self.c9(torch.cat((y2,x1),1)))\n",
    "    #output         \n",
    "    out = self.classifier(y1)\n",
    "    return out\"\"\""
   ]
  },
  {
   "cell_type": "code",
   "execution_count": null,
   "metadata": {},
   "outputs": [],
   "source": [
    "#we consider the first point cloud from the training set\n",
    "tile, gt = read_patch(training_set_path)\n",
    "print(tile.shape)\n",
    "print(gt.shape)\n",
    "print(tile[0:2,:,:,:].shape)\n",
    "segnet = SegNet(3,[4,4,4,4,4,4], [4,4,4,4],3)\n",
    "print(segnet)\n",
    "print('Total number of parameters: {}'.format(sum([p.numel() for p in segnet.parameters()])))\n",
    "pred = segnet(tile[0:2,:,:,:]) #the None indicate a batch size of 1\n",
    "assert(pred.shape == torch.Size([2,3,500,500]))\n"
   ]
  },
  {
   "cell_type": "code",
   "execution_count": null,
   "metadata": {},
   "outputs": [],
   "source": [
    "loader = torch.utils.data.DataLoader(train_set, \\\n",
    "         batch_size=args.batch_size, shuffle=True, drop_last=True)\n",
    "\n",
    "for index, (tiles, gt) in enumerate(loader):\n",
    "    print(index)\n",
    "    print(tiles.shape)\n",
    "    print(gt.shape)"
   ]
  },
  {
   "cell_type": "code",
   "execution_count": 7,
   "metadata": {},
   "outputs": [],
   "source": [
    "def train(model, optimizer, args):\n",
    "  \"\"\"train for one epoch\"\"\"\n",
    "  model.train() #switch the model in training mode\n",
    "  \n",
    "  #the loader function will take care of the batching\n",
    "  loader = torch.utils.data.DataLoader(train_set, \\\n",
    "         batch_size=args.batch_size, shuffle=True, drop_last=True)\n",
    "  #tqdm will provide some nice progress bars\n",
    "  loader = tqdm(loader, ncols=500)\n",
    "  \n",
    "  #will keep track of the loss\n",
    "  loss_meter = tnt.meter.AverageValueMeter()\n",
    "  cm = ConfusionMatrix(args.n_class, class_names = class_names)\n",
    "\n",
    "  for index, (tiles, gt) in enumerate(loader):\n",
    "    \n",
    "    optimizer.zero_grad() #put gradient to zero\n",
    "    \n",
    "    pred = model(tiles) #compute the prediction\n",
    "\n",
    "    loss = nn.functional.cross_entropy(pred,gt, weight=torch.tensor([0.1,0.3,0.6]))\n",
    "\n",
    "    loss.backward() #compute gradients\n",
    "\n",
    "    for p in model.parameters(): #we clip the gradient at norm 1\n",
    "      p.grad.data.clamp_(-1, 1) #this helps learning faster\n",
    "    \n",
    "    optimizer.step() #one SGD step\n",
    "    \n",
    "    loss_meter.add(loss.item())\n",
    "    labeled = np.where(gt.view(-1)!=99)[0] #select gt with a label\n",
    "    #need to put the prediction back on the cpu and convert to numpy\n",
    "    cm.add_batch(gt.view(-1)[labeled], pred.argmax(1).view(-1)[labeled].cpu().detach().numpy())\n",
    "    \n",
    "  return cm, loss_meter.value()[0]\n",
    "\n",
    "def eval(model, args):\n",
    "  \"\"\"eval on test/validation set\"\"\"\n",
    "  \n",
    "  model.eval() #switch in eval mode\n",
    "  \n",
    "  loader = torch.utils.data.DataLoader(test_set, batch_size=1, shuffle=False, drop_last=False)\n",
    "  \n",
    "  loader = tqdm(loader, ncols=500)\n",
    "  \n",
    "  loss_meter = tnt.meter.AverageValueMeter()\n",
    "  cm = ConfusionMatrix(args.n_class, class_names = class_names)\n",
    "\n",
    "  with torch.no_grad():\n",
    "    for index, (tiles, gt) in enumerate(loader):\n",
    "      \n",
    "      #TODO\n",
    "      pred = model(tiles)\n",
    "      loss = nn.functional.cross_entropy(pred,gt)\n",
    "      loss_meter.add(loss.item())\n",
    "      labeled = np.where(gt.view(-1)!=99)[0] #select gt with a label\n",
    "      cm.add_batch(gt.view(-1)[labeled], pred.argmax(1).view(-1)[labeled].detach().numpy())\n",
    "\n",
    "  return cm, loss_meter.value()[0]\n",
    "\n",
    "\n",
    "def train_full(args):\n",
    "  \"\"\"The full training loop\"\"\"\n",
    "  #initialize the model\n",
    "  \n",
    "  model = SegNet(args.n_channel, args.conv_width, args.dconv_width, args.n_class)\n",
    "\n",
    "  print('Total number of parameters: {}'.format(sum([p.numel() for p in model.parameters()])))\n",
    "  \n",
    "  #define the optimizer\n",
    "  optimizer = optim.Adam(model.parameters(), lr=args.lr)\n",
    "  scheduler = optim.lr_scheduler.MultiStepLR(optimizer, milestones=[70,90], gamma=0.7)\n",
    "  \n",
    "  TESTCOLOR = '\\033[104m'\n",
    "  TRAINCOLOR = '\\033[100m'\n",
    "  NORMALCOLOR = '\\033[0m'\n",
    "  \n",
    "  training_accu=[]\n",
    "  training_miou=[]\n",
    "  training_loss=[]\n",
    "  training_epoch=[]\n",
    "  test_accu=[]\n",
    "  test_miou=[]\n",
    "  test_loss=[]\n",
    "  test_epoch=[]\n",
    "\n",
    "  for i_epoch in range(args.n_epoch):\n",
    "    #train one epoch\n",
    "    cm_train, loss_train = train(model, optimizer, args)\n",
    "    scheduler.step()\n",
    "    print(TRAINCOLOR)\n",
    "    print('Epoch %3d -> Train Overall Accuracy: %3.2f%% Train mIoU : %3.2f%% Train Loss: %1.4f' % (i_epoch, cm_train.overall_accuracy(), cm_train.class_IoU(), loss_train) + NORMALCOLOR)\n",
    "    training_epoch.append(i_epoch)\n",
    "    training_accu.append(cm_train.overall_accuracy())\n",
    "    training_miou.append(cm_train.class_IoU())\n",
    "    training_loss.append(loss_train)\n",
    "\n",
    "    if (i_epoch == args.n_epoch - 1) or (args.n_epoch_test != 0 and i_epoch % args.n_epoch_test == 0 and i_epoch > 0):\n",
    "      #periodic testing\n",
    "      cm_test, loss_test = eval(model, args)\n",
    "      print(TESTCOLOR)\n",
    "      print('Test Overall Accuracy: %3.2f%% Test mIoU : %3.2f%%  Test Loss: %1.4f' % (cm_test.overall_accuracy(), cm_test.class_IoU(), loss_test) + NORMALCOLOR)\n",
    "      test_epoch.append(i_epoch)\n",
    "      test_accu.append(cm_test.overall_accuracy())\n",
    "      test_miou.append(cm_test.class_IoU())\n",
    "      test_loss.append(loss_test)\n",
    "      #viewer(n_shown = 1, train = False, model = model, category = 'cigpe', use_mask = False)\n",
    "\n",
    "  plt.figure(figsize=(30, 10))\n",
    "  plt.subplot(1,3,1, ylim=(0,100), xlabel=\"# of epochs\", ylabel=\"Overall Accuracy\")\n",
    "  plt.plot(training_epoch, training_accu)\n",
    "  plt.plot(test_epoch, test_accu)\n",
    "  plt.subplot(1,3,2, ylim=(0,100), xlabel=\"# of epochs\", ylabel=\"mean Class IoU\")\n",
    "  plt.plot(training_epoch, training_miou)\n",
    "  plt.plot(test_epoch, test_miou)\n",
    "  plt.subplot(1,3,3, ylim=(0,1), xlabel=\"# of epochs\", ylabel=\"Loss function\")\n",
    "  plt.plot(training_epoch, training_loss)\n",
    "  plt.plot(test_epoch, test_loss)\n",
    "  plt.show()\n",
    "  return model"
   ]
  },
  {
   "cell_type": "code",
   "execution_count": 8,
   "metadata": {},
   "outputs": [
    {
     "ename": "IndentationError",
     "evalue": "expected an indented block (<ipython-input-8-2f3499f3a46a>, line 47)",
     "output_type": "error",
     "traceback": [
      "\u001b[1;36m  File \u001b[1;32m\"<ipython-input-8-2f3499f3a46a>\"\u001b[1;36m, line \u001b[1;32m47\u001b[0m\n\u001b[1;33m    pred = model(tiles)\u001b[0m\n\u001b[1;37m       ^\u001b[0m\n\u001b[1;31mIndentationError\u001b[0m\u001b[1;31m:\u001b[0m expected an indented block\n"
     ]
    }
   ],
   "source": [
    "def train(model, optimizer, args):\n",
    "    \"\"\"train for one epoch\"\"\"\n",
    "    model.train() #switch the model in training mode\n",
    "  \n",
    "    #the loader function will take care of the batching\n",
    "    loader = torch.utils.data.DataLoader(train_set, \\\n",
    "         batch_size=args.batch_size, shuffle=True, drop_last=True)\n",
    "  \n",
    "    #will keep track of the loss\n",
    "    loss_meter = tnt.meter.AverageValueMeter()\n",
    "\n",
    "    for index, (tiles, gt) in enumerate(loader):\n",
    "    \n",
    "        optimizer.zero_grad() #put gradient to zero\n",
    "    \n",
    "        pred = model(tiles) #compute the prediction\n",
    "\n",
    "        loss = nn.functional.cross_entropy(pred.cpu(),gt)\n",
    "\n",
    "        loss.backward() #compute gradients\n",
    "\n",
    "        for p in model.parameters(): #we clip the gradient at norm 1\n",
    "            p.grad.data.clamp_(-1, 1) #this helps learning faster\n",
    "    \n",
    "        optimizer.step() #one SGD step\n",
    "    \n",
    "        loss_meter.add(loss.item())\n",
    "    \n",
    "    return loss_meter.value()[0]\n",
    "\n",
    "def eval(model, args):\n",
    "    \"\"\"eval on test/validation set\"\"\"\n",
    "  \n",
    "    model.eval() #switch in eval mode\n",
    "  \n",
    "    loader = torch.utils.data.DataLoader(test_set, batch_size=1, shuffle=False, drop_last=False)\n",
    "  \n",
    "    loader = tqdm(loader, ncols=500)\n",
    "  \n",
    "    loss_meter = tnt.meter.AverageValueMeter()\n",
    "    cm = ConfusionMatrix(args.n_class, class_names = class_names)\n",
    "\n",
    "    with torch.no_grad():\n",
    "        for index, (tiles, gt) in enumerate(loader):\n",
    "      \n",
    "        \n",
    "            pred = model(tiles)\n",
    "            loss = nn.functional.cross_entropy(pred.cpu(),gt)\n",
    "            loss_meter.add(loss.item())\n",
    "            labeled = np.where(gt.view(-1)!=99)[0] #select gt with a label\n",
    "            cm.add_batch(gt.view(-1)[labeled], pred.argmax(1).view(-1)[labeled].cpu().detach().numpy())\n",
    "\n",
    "    return cm, loss_meter.value()[0]\n",
    "\n",
    "\n",
    "def train_full(args):\n",
    "    \"\"\"The full training loop\"\"\"\n",
    "\n",
    "    #initialize the model\n",
    "    model = SegNet(args.n_channel, args.conv_width, args.dconv_width, args.n_class)\n",
    "\n",
    "    print('Total number of parameters: {}'.format(sum([p.numel() for p in model.parameters()])))\n",
    "  \n",
    "    #define the optimizer\n",
    "    #adam optimizer is always a good guess for classification\n",
    "    optimizer = optim.Adam(model.parameters(), lr=args.lr)\n",
    "    scheduler = optim.lr_scheduler.MultiStepLR(optimizer, milestones=[70,90], gamma=0.7)\n",
    "  \n",
    "    TESTCOLOR = '\\033[104m'\n",
    "    NORMALCOLOR = '\\033[0m'\n",
    "  \n",
    "    test_accu=[]\n",
    "    test_miou=[]\n",
    "    test_loss=[]\n",
    "    test_epoch=[]\n",
    "\n",
    "    for i_epoch in range(args.n_epoch):\n",
    "        #train one epoch\n",
    "        loss_train = train(model, optimizer, args)\n",
    "        scheduler.step()\n",
    "\n",
    "        if (i_epoch == args.n_epoch - 1) or (args.n_epoch_test != 0 and i_epoch % args.n_epoch_test == 0 and i_epoch > 0):\n",
    "            #periodic testing\n",
    "            cm_test, loss_test = eval(model, args)\n",
    "            print(TESTCOLOR)\n",
    "            print('Test Overall Accuracy: %3.2f%% Test mIoU : %3.2f%%  Test Loss: %1.4f' % (cm_test.overall_accuracy(), cm_test.class_IoU(), loss_test) + NORMALCOLOR)\n",
    "            test_epoch.append(i_epoch)\n",
    "            test_accu.append(cm_test.overall_accuracy())\n",
    "            test_miou.append(cm_test.class_IoU())\n",
    "            test_loss.append(loss_test)\n",
    "\n",
    "    plt.figure(figsize=(30, 10))\n",
    "    plt.subplot(1,3,1, ylim=(0,100), xlabel=\"# of epochs\", ylabel=\"Overall Accuracy\")\n",
    "    plt.plot(test_epoch, test_accu)\n",
    "    plt.subplot(1,3,2, ylim=(0,100), xlabel=\"# of epochs\", ylabel=\"mean Class IoU\")\n",
    "    plt.plot(test_epoch, test_miou)\n",
    "    plt.subplot(1,3,3, ylim=(0,1), xlabel=\"# of epochs\", ylabel=\"Loss function\")\n",
    "    plt.plot(test_epoch, test_loss)\n",
    "    plt.show()\n",
    "    return model"
   ]
  },
  {
   "cell_type": "code",
   "execution_count": 12,
   "metadata": {
    "scrolled": true
   },
   "outputs": [
    {
     "name": "stdout",
     "output_type": "stream",
     "text": [
      "Total number of parameters: 104931\n"
     ]
    },
    {
     "name": "stderr",
     "output_type": "stream",
     "text": [
      "C:\\ProgramData\\Anaconda3\\lib\\site-packages\\ipykernel_launcher.py:9: TqdmDeprecationWarning: This function will be removed in tqdm==5.0.0\n",
      "Please use `tqdm.notebook.tqdm` instead of `tqdm.tqdm_notebook`\n",
      "  if __name__ == '__main__':\n"
     ]
    },
    {
     "data": {
      "application/vnd.jupyter.widget-view+json": {
       "model_id": "3fbc4f2ca60a40c29d813d79dee2cab8",
       "version_major": 2,
       "version_minor": 0
      },
      "text/plain": [
       "HBox(children=(FloatProgress(value=0.0, layout=Layout(flex='2'), max=5.0), HTML(value='')), layout=Layout(disp…"
      ]
     },
     "metadata": {},
     "output_type": "display_data"
    },
    {
     "name": "stdout",
     "output_type": "stream",
     "text": [
      "\n",
      "\u001b[100m\n",
      "BACKGRD : 9.93%  |  PINUS : 39.90%  |  PICEA : 4.90%\n",
      "Epoch   0 -> Train Overall Accuracy: 40.97% Train mIoU : 18.24% Train Loss: 2.3964\u001b[0m\n",
      "BACKGRD : 9.93%  |  PINUS : 39.90%  |  PICEA : 4.90%\n"
     ]
    },
    {
     "data": {
      "application/vnd.jupyter.widget-view+json": {
       "model_id": "0595b4c11c3c4cc1a4656bec576bbaef",
       "version_major": 2,
       "version_minor": 0
      },
      "text/plain": [
       "HBox(children=(FloatProgress(value=0.0, layout=Layout(flex='2'), max=5.0), HTML(value='')), layout=Layout(disp…"
      ]
     },
     "metadata": {},
     "output_type": "display_data"
    },
    {
     "name": "stdout",
     "output_type": "stream",
     "text": [
      "\n",
      "\u001b[100m\n",
      "BACKGRD : 13.76%  |  PINUS : 40.99%  |  PICEA : 13.04%\n",
      "Epoch   1 -> Train Overall Accuracy: 43.44% Train mIoU : 22.60% Train Loss: 1.7290\u001b[0m\n",
      "BACKGRD : 13.76%  |  PINUS : 40.99%  |  PICEA : 13.04%\n"
     ]
    },
    {
     "data": {
      "application/vnd.jupyter.widget-view+json": {
       "model_id": "756e9f25ce1f42f0b93648a68bf802c2",
       "version_major": 2,
       "version_minor": 0
      },
      "text/plain": [
       "HBox(children=(FloatProgress(value=0.0, layout=Layout(flex='2'), max=5.0), HTML(value='')), layout=Layout(disp…"
      ]
     },
     "metadata": {},
     "output_type": "display_data"
    },
    {
     "name": "stdout",
     "output_type": "stream",
     "text": [
      "\n",
      "\u001b[100m\n",
      "BACKGRD : 15.26%  |  PINUS : 40.91%  |  PICEA : 19.22%\n",
      "Epoch   2 -> Train Overall Accuracy: 44.57% Train mIoU : 25.13% Train Loss: 1.4219\u001b[0m\n",
      "BACKGRD : 15.26%  |  PINUS : 40.91%  |  PICEA : 19.22%\n"
     ]
    },
    {
     "data": {
      "application/vnd.jupyter.widget-view+json": {
       "model_id": "8f0ae91eaacc47c3baff391c71db6ac1",
       "version_major": 2,
       "version_minor": 0
      },
      "text/plain": [
       "HBox(children=(FloatProgress(value=0.0, layout=Layout(flex='2'), max=5.0), HTML(value='')), layout=Layout(disp…"
      ]
     },
     "metadata": {},
     "output_type": "display_data"
    },
    {
     "name": "stdout",
     "output_type": "stream",
     "text": [
      "\n",
      "\u001b[100m\n",
      "BACKGRD : 15.03%  |  PINUS : 40.32%  |  PICEA : 21.26%\n",
      "Epoch   3 -> Train Overall Accuracy: 44.52% Train mIoU : 25.54% Train Loss: 1.2493\u001b[0m\n",
      "BACKGRD : 15.03%  |  PINUS : 40.32%  |  PICEA : 21.26%\n"
     ]
    },
    {
     "data": {
      "application/vnd.jupyter.widget-view+json": {
       "model_id": "3aaa9d6b7b67499080ab679c094ad638",
       "version_major": 2,
       "version_minor": 0
      },
      "text/plain": [
       "HBox(children=(FloatProgress(value=0.0, layout=Layout(flex='2'), max=5.0), HTML(value='')), layout=Layout(disp…"
      ]
     },
     "metadata": {},
     "output_type": "display_data"
    },
    {
     "name": "stdout",
     "output_type": "stream",
     "text": [
      "\n",
      "\u001b[100m\n",
      "BACKGRD : 16.88%  |  PINUS : 39.59%  |  PICEA : 23.54%\n",
      "Epoch   4 -> Train Overall Accuracy: 45.05% Train mIoU : 26.67% Train Loss: 1.0864\u001b[0m\n",
      "BACKGRD : 16.88%  |  PINUS : 39.59%  |  PICEA : 23.54%\n"
     ]
    },
    {
     "data": {
      "application/vnd.jupyter.widget-view+json": {
       "model_id": "68ebb35e3a5649aeb6d219aa755b4864",
       "version_major": 2,
       "version_minor": 0
      },
      "text/plain": [
       "HBox(children=(FloatProgress(value=0.0, layout=Layout(flex='2'), max=5.0), HTML(value='')), layout=Layout(disp…"
      ]
     },
     "metadata": {},
     "output_type": "display_data"
    },
    {
     "name": "stdout",
     "output_type": "stream",
     "text": [
      "\n",
      "\u001b[100m\n",
      "BACKGRD : 19.26%  |  PINUS : 39.80%  |  PICEA : 23.39%\n",
      "Epoch   5 -> Train Overall Accuracy: 46.24% Train mIoU : 27.48% Train Loss: 1.0371\u001b[0m\n",
      "BACKGRD : 19.26%  |  PINUS : 39.80%  |  PICEA : 23.39%\n"
     ]
    },
    {
     "name": "stderr",
     "output_type": "stream",
     "text": [
      "C:\\ProgramData\\Anaconda3\\lib\\site-packages\\ipykernel_launcher.py:45: TqdmDeprecationWarning: This function will be removed in tqdm==5.0.0\n",
      "Please use `tqdm.notebook.tqdm` instead of `tqdm.tqdm_notebook`\n"
     ]
    },
    {
     "data": {
      "application/vnd.jupyter.widget-view+json": {
       "model_id": "a03f275f757943d19cca3e37c1eb6317",
       "version_major": 2,
       "version_minor": 0
      },
      "text/plain": [
       "HBox(children=(FloatProgress(value=0.0, layout=Layout(flex='2'), max=20.0), HTML(value='')), layout=Layout(dis…"
      ]
     },
     "metadata": {},
     "output_type": "display_data"
    },
    {
     "name": "stdout",
     "output_type": "stream",
     "text": [
      "\n",
      "\u001b[104m\n",
      "BACKGRD : 28.00%  |  PINUS : 25.18%  |  PICEA : 11.98%\n",
      "Test Overall Accuracy: 38.99% Test mIoU : 21.72%  Test Loss: 1.9515\u001b[0m\n",
      "BACKGRD : 28.00%  |  PINUS : 25.18%  |  PICEA : 11.98%\n"
     ]
    },
    {
     "data": {
      "application/vnd.jupyter.widget-view+json": {
       "model_id": "e9f07f34d1f24967930969d42504b9dc",
       "version_major": 2,
       "version_minor": 0
      },
      "text/plain": [
       "HBox(children=(FloatProgress(value=0.0, layout=Layout(flex='2'), max=5.0), HTML(value='')), layout=Layout(disp…"
      ]
     },
     "metadata": {},
     "output_type": "display_data"
    },
    {
     "name": "stdout",
     "output_type": "stream",
     "text": [
      "\n",
      "\u001b[100m\n",
      "BACKGRD : 20.84%  |  PINUS : 40.00%  |  PICEA : 23.84%\n",
      "Epoch   6 -> Train Overall Accuracy: 47.08% Train mIoU : 28.23% Train Loss: 1.0120\u001b[0m\n",
      "BACKGRD : 20.84%  |  PINUS : 40.00%  |  PICEA : 23.84%\n"
     ]
    },
    {
     "data": {
      "application/vnd.jupyter.widget-view+json": {
       "model_id": "4fc89859ecb541c294b12b7f5ba232be",
       "version_major": 2,
       "version_minor": 0
      },
      "text/plain": [
       "HBox(children=(FloatProgress(value=0.0, layout=Layout(flex='2'), max=5.0), HTML(value='')), layout=Layout(disp…"
      ]
     },
     "metadata": {},
     "output_type": "display_data"
    },
    {
     "name": "stdout",
     "output_type": "stream",
     "text": [
      "\n",
      "\u001b[100m\n",
      "BACKGRD : 22.20%  |  PINUS : 41.19%  |  PICEA : 27.39%\n",
      "Epoch   7 -> Train Overall Accuracy: 48.84% Train mIoU : 30.26% Train Loss: 0.9354\u001b[0m\n",
      "BACKGRD : 22.20%  |  PINUS : 41.19%  |  PICEA : 27.39%\n"
     ]
    },
    {
     "data": {
      "application/vnd.jupyter.widget-view+json": {
       "model_id": "691c79d5aeca4da39c1a2d0e3880f269",
       "version_major": 2,
       "version_minor": 0
      },
      "text/plain": [
       "HBox(children=(FloatProgress(value=0.0, layout=Layout(flex='2'), max=5.0), HTML(value='')), layout=Layout(disp…"
      ]
     },
     "metadata": {},
     "output_type": "display_data"
    },
    {
     "name": "stdout",
     "output_type": "stream",
     "text": [
      "\n",
      "\u001b[100m\n",
      "BACKGRD : 23.69%  |  PINUS : 41.18%  |  PICEA : 28.87%\n",
      "Epoch   8 -> Train Overall Accuracy: 49.54% Train mIoU : 31.25% Train Loss: 0.8876\u001b[0m\n",
      "BACKGRD : 23.69%  |  PINUS : 41.18%  |  PICEA : 28.87%\n"
     ]
    },
    {
     "data": {
      "application/vnd.jupyter.widget-view+json": {
       "model_id": "565b98a8b5024a2e8e27184d7fb92a10",
       "version_major": 2,
       "version_minor": 0
      },
      "text/plain": [
       "HBox(children=(FloatProgress(value=0.0, layout=Layout(flex='2'), max=5.0), HTML(value='')), layout=Layout(disp…"
      ]
     },
     "metadata": {},
     "output_type": "display_data"
    },
    {
     "name": "stdout",
     "output_type": "stream",
     "text": [
      "\n",
      "\u001b[100m\n",
      "BACKGRD : 21.45%  |  PINUS : 41.25%  |  PICEA : 28.16%\n",
      "Epoch   9 -> Train Overall Accuracy: 48.66% Train mIoU : 30.29% Train Loss: 0.9154\u001b[0m\n",
      "BACKGRD : 21.45%  |  PINUS : 41.25%  |  PICEA : 28.16%\n"
     ]
    },
    {
     "data": {
      "application/vnd.jupyter.widget-view+json": {
       "model_id": "4c10cbc753a149cca47f343ac03fde6e",
       "version_major": 2,
       "version_minor": 0
      },
      "text/plain": [
       "HBox(children=(FloatProgress(value=0.0, layout=Layout(flex='2'), max=5.0), HTML(value='')), layout=Layout(disp…"
      ]
     },
     "metadata": {},
     "output_type": "display_data"
    },
    {
     "name": "stdout",
     "output_type": "stream",
     "text": [
      "\n",
      "\u001b[100m\n",
      "BACKGRD : 20.54%  |  PINUS : 42.60%  |  PICEA : 28.11%\n",
      "Epoch  10 -> Train Overall Accuracy: 49.37% Train mIoU : 30.42% Train Loss: 0.8926\u001b[0m\n",
      "BACKGRD : 20.54%  |  PINUS : 42.60%  |  PICEA : 28.11%\n"
     ]
    },
    {
     "data": {
      "application/vnd.jupyter.widget-view+json": {
       "model_id": "d5d2d3c70f76487ea6bbbd5feac9dc64",
       "version_major": 2,
       "version_minor": 0
      },
      "text/plain": [
       "HBox(children=(FloatProgress(value=0.0, layout=Layout(flex='2'), max=20.0), HTML(value='')), layout=Layout(dis…"
      ]
     },
     "metadata": {},
     "output_type": "display_data"
    },
    {
     "name": "stdout",
     "output_type": "stream",
     "text": [
      "\n",
      "\u001b[104m\n",
      "BACKGRD : 25.99%  |  PINUS : 23.92%  |  PICEA : 15.79%\n",
      "Test Overall Accuracy: 37.28% Test mIoU : 21.90%  Test Loss: 1.3530\u001b[0m\n",
      "BACKGRD : 25.99%  |  PINUS : 23.92%  |  PICEA : 15.79%\n"
     ]
    },
    {
     "data": {
      "application/vnd.jupyter.widget-view+json": {
       "model_id": "37105a6987124ece945dc0cf776c5cc6",
       "version_major": 2,
       "version_minor": 0
      },
      "text/plain": [
       "HBox(children=(FloatProgress(value=0.0, layout=Layout(flex='2'), max=5.0), HTML(value='')), layout=Layout(disp…"
      ]
     },
     "metadata": {},
     "output_type": "display_data"
    },
    {
     "name": "stdout",
     "output_type": "stream",
     "text": [
      "\n",
      "\u001b[100m\n",
      "BACKGRD : 21.09%  |  PINUS : 41.80%  |  PICEA : 31.68%\n",
      "Epoch  11 -> Train Overall Accuracy: 49.71% Train mIoU : 31.52% Train Loss: 0.8513\u001b[0m\n",
      "BACKGRD : 21.09%  |  PINUS : 41.80%  |  PICEA : 31.68%\n"
     ]
    },
    {
     "data": {
      "application/vnd.jupyter.widget-view+json": {
       "model_id": "e0c440244c54424db34e5f102e529569",
       "version_major": 2,
       "version_minor": 0
      },
      "text/plain": [
       "HBox(children=(FloatProgress(value=0.0, layout=Layout(flex='2'), max=5.0), HTML(value='')), layout=Layout(disp…"
      ]
     },
     "metadata": {},
     "output_type": "display_data"
    },
    {
     "name": "stdout",
     "output_type": "stream",
     "text": [
      "\n",
      "\u001b[100m\n",
      "BACKGRD : 21.91%  |  PINUS : 42.82%  |  PICEA : 32.68%\n",
      "Epoch  12 -> Train Overall Accuracy: 50.88% Train mIoU : 32.47% Train Loss: 0.8479\u001b[0m\n",
      "BACKGRD : 21.91%  |  PINUS : 42.82%  |  PICEA : 32.68%\n"
     ]
    },
    {
     "data": {
      "application/vnd.jupyter.widget-view+json": {
       "model_id": "fc9f8a58baca4fe585a424f390c452f3",
       "version_major": 2,
       "version_minor": 0
      },
      "text/plain": [
       "HBox(children=(FloatProgress(value=0.0, layout=Layout(flex='2'), max=5.0), HTML(value='')), layout=Layout(disp…"
      ]
     },
     "metadata": {},
     "output_type": "display_data"
    },
    {
     "name": "stdout",
     "output_type": "stream",
     "text": [
      "\n",
      "\u001b[100m\n",
      "BACKGRD : 21.40%  |  PINUS : 42.21%  |  PICEA : 33.90%\n",
      "Epoch  13 -> Train Overall Accuracy: 50.48% Train mIoU : 32.50% Train Loss: 0.8179\u001b[0m\n",
      "BACKGRD : 21.40%  |  PINUS : 42.21%  |  PICEA : 33.90%\n"
     ]
    },
    {
     "data": {
      "application/vnd.jupyter.widget-view+json": {
       "model_id": "92dde243201a489ba5fdf05b0f88065b",
       "version_major": 2,
       "version_minor": 0
      },
      "text/plain": [
       "HBox(children=(FloatProgress(value=0.0, layout=Layout(flex='2'), max=5.0), HTML(value='')), layout=Layout(disp…"
      ]
     },
     "metadata": {},
     "output_type": "display_data"
    },
    {
     "name": "stdout",
     "output_type": "stream",
     "text": [
      "\n",
      "\u001b[100m\n",
      "BACKGRD : 21.08%  |  PINUS : 42.95%  |  PICEA : 35.06%\n",
      "Epoch  14 -> Train Overall Accuracy: 50.96% Train mIoU : 33.03% Train Loss: 0.7956\u001b[0m\n",
      "BACKGRD : 21.08%  |  PINUS : 42.95%  |  PICEA : 35.06%\n"
     ]
    },
    {
     "data": {
      "application/vnd.jupyter.widget-view+json": {
       "model_id": "8676d88812524f3b8a0aadeaa5f4c5da",
       "version_major": 2,
       "version_minor": 0
      },
      "text/plain": [
       "HBox(children=(FloatProgress(value=0.0, layout=Layout(flex='2'), max=5.0), HTML(value='')), layout=Layout(disp…"
      ]
     },
     "metadata": {},
     "output_type": "display_data"
    },
    {
     "name": "stdout",
     "output_type": "stream",
     "text": [
      "\n",
      "\u001b[100m\n",
      "BACKGRD : 20.95%  |  PINUS : 43.44%  |  PICEA : 37.14%\n",
      "Epoch  15 -> Train Overall Accuracy: 51.67% Train mIoU : 33.84% Train Loss: 0.7812\u001b[0m\n",
      "BACKGRD : 20.95%  |  PINUS : 43.44%  |  PICEA : 37.14%\n"
     ]
    },
    {
     "data": {
      "application/vnd.jupyter.widget-view+json": {
       "model_id": "4570a6befe0648d89f4a4a738c3537b2",
       "version_major": 2,
       "version_minor": 0
      },
      "text/plain": [
       "HBox(children=(FloatProgress(value=0.0, layout=Layout(flex='2'), max=20.0), HTML(value='')), layout=Layout(dis…"
      ]
     },
     "metadata": {},
     "output_type": "display_data"
    },
    {
     "name": "stdout",
     "output_type": "stream",
     "text": [
      "\n",
      "\u001b[104m\n",
      "BACKGRD : 20.46%  |  PINUS : 29.75%  |  PICEA : 15.31%\n",
      "Test Overall Accuracy: 36.74% Test mIoU : 21.84%  Test Loss: 1.2838\u001b[0m\n",
      "BACKGRD : 20.46%  |  PINUS : 29.75%  |  PICEA : 15.31%\n"
     ]
    },
    {
     "data": {
      "application/vnd.jupyter.widget-view+json": {
       "model_id": "fb7713a9b6ad46d48091fe86243728f7",
       "version_major": 2,
       "version_minor": 0
      },
      "text/plain": [
       "HBox(children=(FloatProgress(value=0.0, layout=Layout(flex='2'), max=5.0), HTML(value='')), layout=Layout(disp…"
      ]
     },
     "metadata": {},
     "output_type": "display_data"
    },
    {
     "name": "stdout",
     "output_type": "stream",
     "text": [
      "\n",
      "\u001b[100m\n",
      "BACKGRD : 21.78%  |  PINUS : 43.76%  |  PICEA : 37.40%\n",
      "Epoch  16 -> Train Overall Accuracy: 52.17% Train mIoU : 34.31% Train Loss: 0.7820\u001b[0m\n",
      "BACKGRD : 21.78%  |  PINUS : 43.76%  |  PICEA : 37.40%\n"
     ]
    },
    {
     "data": {
      "application/vnd.jupyter.widget-view+json": {
       "model_id": "8b467ac5a1da458a89ad5259f47695d5",
       "version_major": 2,
       "version_minor": 0
      },
      "text/plain": [
       "HBox(children=(FloatProgress(value=0.0, layout=Layout(flex='2'), max=5.0), HTML(value='')), layout=Layout(disp…"
      ]
     },
     "metadata": {},
     "output_type": "display_data"
    },
    {
     "name": "stdout",
     "output_type": "stream",
     "text": [
      "\n",
      "\u001b[100m\n",
      "BACKGRD : 22.24%  |  PINUS : 43.90%  |  PICEA : 37.79%\n",
      "Epoch  17 -> Train Overall Accuracy: 52.42% Train mIoU : 34.64% Train Loss: 0.7545\u001b[0m\n",
      "BACKGRD : 22.24%  |  PINUS : 43.90%  |  PICEA : 37.79%\n"
     ]
    },
    {
     "data": {
      "application/vnd.jupyter.widget-view+json": {
       "model_id": "d06e2872c6ac4a649baeab6e5bd4d346",
       "version_major": 2,
       "version_minor": 0
      },
      "text/plain": [
       "HBox(children=(FloatProgress(value=0.0, layout=Layout(flex='2'), max=5.0), HTML(value='')), layout=Layout(disp…"
      ]
     },
     "metadata": {},
     "output_type": "display_data"
    },
    {
     "name": "stdout",
     "output_type": "stream",
     "text": [
      "\n",
      "\u001b[100m\n",
      "BACKGRD : 22.40%  |  PINUS : 44.09%  |  PICEA : 38.04%\n",
      "Epoch  18 -> Train Overall Accuracy: 52.66% Train mIoU : 34.84% Train Loss: 0.7589\u001b[0m\n",
      "BACKGRD : 22.40%  |  PINUS : 44.09%  |  PICEA : 38.04%\n"
     ]
    },
    {
     "data": {
      "application/vnd.jupyter.widget-view+json": {
       "model_id": "e527dcde702a46ac8c38a52efcd98a5f",
       "version_major": 2,
       "version_minor": 0
      },
      "text/plain": [
       "HBox(children=(FloatProgress(value=0.0, layout=Layout(flex='2'), max=5.0), HTML(value='')), layout=Layout(disp…"
      ]
     },
     "metadata": {},
     "output_type": "display_data"
    },
    {
     "name": "stdout",
     "output_type": "stream",
     "text": [
      "\n",
      "\u001b[100m\n",
      "BACKGRD : 21.46%  |  PINUS : 43.18%  |  PICEA : 38.90%\n",
      "Epoch  19 -> Train Overall Accuracy: 51.90% Train mIoU : 34.51% Train Loss: 0.7656\u001b[0m\n",
      "BACKGRD : 21.46%  |  PINUS : 43.18%  |  PICEA : 38.90%\n"
     ]
    },
    {
     "data": {
      "application/vnd.jupyter.widget-view+json": {
       "model_id": "cffededa7d9a41e1a7456dd45acde206",
       "version_major": 2,
       "version_minor": 0
      },
      "text/plain": [
       "HBox(children=(FloatProgress(value=0.0, layout=Layout(flex='2'), max=5.0), HTML(value='')), layout=Layout(disp…"
      ]
     },
     "metadata": {},
     "output_type": "display_data"
    },
    {
     "name": "stdout",
     "output_type": "stream",
     "text": [
      "\n",
      "\u001b[100m\n",
      "BACKGRD : 22.15%  |  PINUS : 43.50%  |  PICEA : 39.37%\n",
      "Epoch  20 -> Train Overall Accuracy: 52.43% Train mIoU : 35.01% Train Loss: 0.7682\u001b[0m\n",
      "BACKGRD : 22.15%  |  PINUS : 43.50%  |  PICEA : 39.37%\n"
     ]
    },
    {
     "data": {
      "application/vnd.jupyter.widget-view+json": {
       "model_id": "240833315a8b4e8e81714c3f389e5540",
       "version_major": 2,
       "version_minor": 0
      },
      "text/plain": [
       "HBox(children=(FloatProgress(value=0.0, layout=Layout(flex='2'), max=20.0), HTML(value='')), layout=Layout(dis…"
      ]
     },
     "metadata": {},
     "output_type": "display_data"
    },
    {
     "name": "stdout",
     "output_type": "stream",
     "text": [
      "\n",
      "\u001b[104m\n",
      "BACKGRD : 28.78%  |  PINUS : 31.50%  |  PICEA : 17.71%\n",
      "Test Overall Accuracy: 43.34% Test mIoU : 26.00%  Test Loss: 1.1222\u001b[0m\n",
      "BACKGRD : 28.78%  |  PINUS : 31.50%  |  PICEA : 17.71%\n"
     ]
    },
    {
     "data": {
      "application/vnd.jupyter.widget-view+json": {
       "model_id": "034ff1fa145c4e7a8bc44386fb04fc77",
       "version_major": 2,
       "version_minor": 0
      },
      "text/plain": [
       "HBox(children=(FloatProgress(value=0.0, layout=Layout(flex='2'), max=5.0), HTML(value='')), layout=Layout(disp…"
      ]
     },
     "metadata": {},
     "output_type": "display_data"
    },
    {
     "name": "stdout",
     "output_type": "stream",
     "text": [
      "\n",
      "\u001b[100m\n",
      "BACKGRD : 22.52%  |  PINUS : 42.13%  |  PICEA : 37.60%\n",
      "Epoch  21 -> Train Overall Accuracy: 51.45% Train mIoU : 34.08% Train Loss: 0.7787\u001b[0m\n",
      "BACKGRD : 22.52%  |  PINUS : 42.13%  |  PICEA : 37.60%\n"
     ]
    },
    {
     "data": {
      "application/vnd.jupyter.widget-view+json": {
       "model_id": "e0167846dba54617960392486f4a3a58",
       "version_major": 2,
       "version_minor": 0
      },
      "text/plain": [
       "HBox(children=(FloatProgress(value=0.0, layout=Layout(flex='2'), max=5.0), HTML(value='')), layout=Layout(disp…"
      ]
     },
     "metadata": {},
     "output_type": "display_data"
    },
    {
     "name": "stdout",
     "output_type": "stream",
     "text": [
      "\n",
      "\u001b[100m\n",
      "BACKGRD : 21.22%  |  PINUS : 44.18%  |  PICEA : 40.46%\n",
      "Epoch  22 -> Train Overall Accuracy: 52.76% Train mIoU : 35.29% Train Loss: 0.7441\u001b[0m\n",
      "BACKGRD : 21.22%  |  PINUS : 44.18%  |  PICEA : 40.46%\n"
     ]
    },
    {
     "data": {
      "application/vnd.jupyter.widget-view+json": {
       "model_id": "5d19b14405ef437d8491abf1a3669b73",
       "version_major": 2,
       "version_minor": 0
      },
      "text/plain": [
       "HBox(children=(FloatProgress(value=0.0, layout=Layout(flex='2'), max=5.0), HTML(value='')), layout=Layout(disp…"
      ]
     },
     "metadata": {},
     "output_type": "display_data"
    },
    {
     "name": "stdout",
     "output_type": "stream",
     "text": [
      "\n",
      "\u001b[100m\n",
      "BACKGRD : 20.65%  |  PINUS : 43.84%  |  PICEA : 40.71%\n",
      "Epoch  23 -> Train Overall Accuracy: 52.33% Train mIoU : 35.06% Train Loss: 0.7386\u001b[0m\n",
      "BACKGRD : 20.65%  |  PINUS : 43.84%  |  PICEA : 40.71%\n"
     ]
    },
    {
     "data": {
      "application/vnd.jupyter.widget-view+json": {
       "model_id": "38cf856b81f544f5b0b28e89792ba766",
       "version_major": 2,
       "version_minor": 0
      },
      "text/plain": [
       "HBox(children=(FloatProgress(value=0.0, layout=Layout(flex='2'), max=5.0), HTML(value='')), layout=Layout(disp…"
      ]
     },
     "metadata": {},
     "output_type": "display_data"
    },
    {
     "name": "stdout",
     "output_type": "stream",
     "text": [
      "\n",
      "\u001b[100m\n",
      "BACKGRD : 22.11%  |  PINUS : 43.97%  |  PICEA : 40.39%\n",
      "Epoch  24 -> Train Overall Accuracy: 52.87% Train mIoU : 35.49% Train Loss: 0.7342\u001b[0m\n",
      "BACKGRD : 22.11%  |  PINUS : 43.97%  |  PICEA : 40.39%\n"
     ]
    },
    {
     "data": {
      "application/vnd.jupyter.widget-view+json": {
       "model_id": "88a8d13def684f95ac8a004a6fb34083",
       "version_major": 2,
       "version_minor": 0
      },
      "text/plain": [
       "HBox(children=(FloatProgress(value=0.0, layout=Layout(flex='2'), max=5.0), HTML(value='')), layout=Layout(disp…"
      ]
     },
     "metadata": {},
     "output_type": "display_data"
    },
    {
     "name": "stdout",
     "output_type": "stream",
     "text": [
      "\n",
      "\u001b[100m\n",
      "BACKGRD : 21.68%  |  PINUS : 43.03%  |  PICEA : 38.74%\n",
      "Epoch  25 -> Train Overall Accuracy: 51.99% Train mIoU : 34.48% Train Loss: 0.7548\u001b[0m\n",
      "BACKGRD : 21.68%  |  PINUS : 43.03%  |  PICEA : 38.74%\n"
     ]
    },
    {
     "data": {
      "application/vnd.jupyter.widget-view+json": {
       "model_id": "3bee2b018cd448d189c481f938506b8e",
       "version_major": 2,
       "version_minor": 0
      },
      "text/plain": [
       "HBox(children=(FloatProgress(value=0.0, layout=Layout(flex='2'), max=20.0), HTML(value='')), layout=Layout(dis…"
      ]
     },
     "metadata": {},
     "output_type": "display_data"
    },
    {
     "name": "stdout",
     "output_type": "stream",
     "text": [
      "\n",
      "\u001b[104m\n",
      "BACKGRD : 36.48%  |  PINUS : 32.89%  |  PICEA : 19.32%\n",
      "Test Overall Accuracy: 49.53% Test mIoU : 29.56%  Test Loss: 0.9891\u001b[0m\n",
      "BACKGRD : 36.48%  |  PINUS : 32.89%  |  PICEA : 19.32%\n"
     ]
    },
    {
     "data": {
      "application/vnd.jupyter.widget-view+json": {
       "model_id": "8264ddeaf7c949d1a2d48ffaef546341",
       "version_major": 2,
       "version_minor": 0
      },
      "text/plain": [
       "HBox(children=(FloatProgress(value=0.0, layout=Layout(flex='2'), max=5.0), HTML(value='')), layout=Layout(disp…"
      ]
     },
     "metadata": {},
     "output_type": "display_data"
    },
    {
     "name": "stdout",
     "output_type": "stream",
     "text": [
      "\n",
      "\u001b[100m\n",
      "BACKGRD : 21.30%  |  PINUS : 44.10%  |  PICEA : 40.99%\n",
      "Epoch  26 -> Train Overall Accuracy: 52.85% Train mIoU : 35.46% Train Loss: 0.7426\u001b[0m\n",
      "BACKGRD : 21.30%  |  PINUS : 44.10%  |  PICEA : 40.99%\n"
     ]
    },
    {
     "data": {
      "application/vnd.jupyter.widget-view+json": {
       "model_id": "7c7eabb530e24ec5852a384a249bc62d",
       "version_major": 2,
       "version_minor": 0
      },
      "text/plain": [
       "HBox(children=(FloatProgress(value=0.0, layout=Layout(flex='2'), max=5.0), HTML(value='')), layout=Layout(disp…"
      ]
     },
     "metadata": {},
     "output_type": "display_data"
    },
    {
     "name": "stdout",
     "output_type": "stream",
     "text": [
      "\n",
      "\u001b[100m\n",
      "BACKGRD : 21.64%  |  PINUS : 44.01%  |  PICEA : 41.96%\n",
      "Epoch  27 -> Train Overall Accuracy: 52.94% Train mIoU : 35.87% Train Loss: 0.7362\u001b[0m\n",
      "BACKGRD : 21.64%  |  PINUS : 44.01%  |  PICEA : 41.96%\n"
     ]
    },
    {
     "data": {
      "application/vnd.jupyter.widget-view+json": {
       "model_id": "6ccf00fde65544acb8376ca541e42dbb",
       "version_major": 2,
       "version_minor": 0
      },
      "text/plain": [
       "HBox(children=(FloatProgress(value=0.0, layout=Layout(flex='2'), max=5.0), HTML(value='')), layout=Layout(disp…"
      ]
     },
     "metadata": {},
     "output_type": "display_data"
    },
    {
     "name": "stdout",
     "output_type": "stream",
     "text": [
      "\n",
      "\u001b[100m\n",
      "BACKGRD : 23.96%  |  PINUS : 44.86%  |  PICEA : 41.11%\n",
      "Epoch  28 -> Train Overall Accuracy: 54.09% Train mIoU : 36.64% Train Loss: 0.7157\u001b[0m\n",
      "BACKGRD : 23.96%  |  PINUS : 44.86%  |  PICEA : 41.11%\n"
     ]
    },
    {
     "data": {
      "application/vnd.jupyter.widget-view+json": {
       "model_id": "f8d5ae9914f649eb830c773194a8cb9e",
       "version_major": 2,
       "version_minor": 0
      },
      "text/plain": [
       "HBox(children=(FloatProgress(value=0.0, layout=Layout(flex='2'), max=5.0), HTML(value='')), layout=Layout(disp…"
      ]
     },
     "metadata": {},
     "output_type": "display_data"
    },
    {
     "name": "stdout",
     "output_type": "stream",
     "text": [
      "\n",
      "\u001b[100m\n",
      "BACKGRD : 22.28%  |  PINUS : 43.81%  |  PICEA : 39.76%\n",
      "Epoch  29 -> Train Overall Accuracy: 52.75% Train mIoU : 35.28% Train Loss: 0.7381\u001b[0m\n",
      "BACKGRD : 22.28%  |  PINUS : 43.81%  |  PICEA : 39.76%\n"
     ]
    },
    {
     "data": {
      "application/vnd.jupyter.widget-view+json": {
       "model_id": "eabcce367e854f85939d0ca07342bb8d",
       "version_major": 2,
       "version_minor": 0
      },
      "text/plain": [
       "HBox(children=(FloatProgress(value=0.0, layout=Layout(flex='2'), max=5.0), HTML(value='')), layout=Layout(disp…"
      ]
     },
     "metadata": {},
     "output_type": "display_data"
    },
    {
     "name": "stdout",
     "output_type": "stream",
     "text": [
      "\n",
      "\u001b[100m\n",
      "BACKGRD : 22.66%  |  PINUS : 44.93%  |  PICEA : 42.89%\n",
      "Epoch  30 -> Train Overall Accuracy: 53.99% Train mIoU : 36.83% Train Loss: 0.7088\u001b[0m\n",
      "BACKGRD : 22.66%  |  PINUS : 44.93%  |  PICEA : 42.89%\n"
     ]
    },
    {
     "data": {
      "application/vnd.jupyter.widget-view+json": {
       "model_id": "48311781427e47be8ad044d2479e84ee",
       "version_major": 2,
       "version_minor": 0
      },
      "text/plain": [
       "HBox(children=(FloatProgress(value=0.0, layout=Layout(flex='2'), max=20.0), HTML(value='')), layout=Layout(dis…"
      ]
     },
     "metadata": {},
     "output_type": "display_data"
    },
    {
     "name": "stdout",
     "output_type": "stream",
     "text": [
      "\n",
      "\u001b[104m\n",
      "BACKGRD : 39.83%  |  PINUS : 34.23%  |  PICEA : 19.73%\n",
      "Test Overall Accuracy: 52.05% Test mIoU : 31.26%  Test Loss: 0.9492\u001b[0m\n",
      "BACKGRD : 39.83%  |  PINUS : 34.23%  |  PICEA : 19.73%\n"
     ]
    },
    {
     "data": {
      "application/vnd.jupyter.widget-view+json": {
       "model_id": "8ef713678b6a4f75a16291596c7ff498",
       "version_major": 2,
       "version_minor": 0
      },
      "text/plain": [
       "HBox(children=(FloatProgress(value=0.0, layout=Layout(flex='2'), max=5.0), HTML(value='')), layout=Layout(disp…"
      ]
     },
     "metadata": {},
     "output_type": "display_data"
    },
    {
     "name": "stdout",
     "output_type": "stream",
     "text": [
      "\n",
      "\u001b[100m\n",
      "BACKGRD : 21.84%  |  PINUS : 44.04%  |  PICEA : 41.11%\n",
      "Epoch  31 -> Train Overall Accuracy: 52.97% Train mIoU : 35.67% Train Loss: 0.7481\u001b[0m\n",
      "BACKGRD : 21.84%  |  PINUS : 44.04%  |  PICEA : 41.11%\n"
     ]
    },
    {
     "data": {
      "application/vnd.jupyter.widget-view+json": {
       "model_id": "b314fd257f66426c9a78f128728d9558",
       "version_major": 2,
       "version_minor": 0
      },
      "text/plain": [
       "HBox(children=(FloatProgress(value=0.0, layout=Layout(flex='2'), max=5.0), HTML(value='')), layout=Layout(disp…"
      ]
     },
     "metadata": {},
     "output_type": "display_data"
    },
    {
     "name": "stdout",
     "output_type": "stream",
     "text": [
      "\n",
      "\u001b[100m\n",
      "BACKGRD : 22.18%  |  PINUS : 44.85%  |  PICEA : 41.93%\n",
      "Epoch  32 -> Train Overall Accuracy: 53.68% Train mIoU : 36.32% Train Loss: 0.7276\u001b[0m\n",
      "BACKGRD : 22.18%  |  PINUS : 44.85%  |  PICEA : 41.93%\n"
     ]
    },
    {
     "data": {
      "application/vnd.jupyter.widget-view+json": {
       "model_id": "5f461377ad4940d4b9a6d24c644e94f2",
       "version_major": 2,
       "version_minor": 0
      },
      "text/plain": [
       "HBox(children=(FloatProgress(value=0.0, layout=Layout(flex='2'), max=5.0), HTML(value='')), layout=Layout(disp…"
      ]
     },
     "metadata": {},
     "output_type": "display_data"
    },
    {
     "name": "stdout",
     "output_type": "stream",
     "text": [
      "\n",
      "\u001b[100m\n",
      "BACKGRD : 21.84%  |  PINUS : 43.98%  |  PICEA : 40.18%\n",
      "Epoch  33 -> Train Overall Accuracy: 52.77% Train mIoU : 35.33% Train Loss: 0.7315\u001b[0m\n",
      "BACKGRD : 21.84%  |  PINUS : 43.98%  |  PICEA : 40.18%\n"
     ]
    },
    {
     "data": {
      "application/vnd.jupyter.widget-view+json": {
       "model_id": "aa19e11ce38e450dacbcd2cea89a8c5b",
       "version_major": 2,
       "version_minor": 0
      },
      "text/plain": [
       "HBox(children=(FloatProgress(value=0.0, layout=Layout(flex='2'), max=5.0), HTML(value='')), layout=Layout(disp…"
      ]
     },
     "metadata": {},
     "output_type": "display_data"
    },
    {
     "name": "stdout",
     "output_type": "stream",
     "text": [
      "\n",
      "\u001b[100m\n",
      "BACKGRD : 22.88%  |  PINUS : 45.47%  |  PICEA : 42.52%\n",
      "Epoch  34 -> Train Overall Accuracy: 54.41% Train mIoU : 36.96% Train Loss: 0.7234\u001b[0m\n",
      "BACKGRD : 22.88%  |  PINUS : 45.47%  |  PICEA : 42.52%\n"
     ]
    },
    {
     "data": {
      "application/vnd.jupyter.widget-view+json": {
       "model_id": "73fdcb8a6bb7460fa8ee39b075a4f29d",
       "version_major": 2,
       "version_minor": 0
      },
      "text/plain": [
       "HBox(children=(FloatProgress(value=0.0, layout=Layout(flex='2'), max=5.0), HTML(value='')), layout=Layout(disp…"
      ]
     },
     "metadata": {},
     "output_type": "display_data"
    },
    {
     "name": "stdout",
     "output_type": "stream",
     "text": [
      "\n",
      "\u001b[100m\n",
      "BACKGRD : 22.61%  |  PINUS : 44.22%  |  PICEA : 41.58%\n",
      "Epoch  35 -> Train Overall Accuracy: 53.41% Train mIoU : 36.14% Train Loss: 0.7447\u001b[0m\n",
      "BACKGRD : 22.61%  |  PINUS : 44.22%  |  PICEA : 41.58%\n"
     ]
    },
    {
     "data": {
      "application/vnd.jupyter.widget-view+json": {
       "model_id": "6074eb74da2b4da4ae6dd8a87866e963",
       "version_major": 2,
       "version_minor": 0
      },
      "text/plain": [
       "HBox(children=(FloatProgress(value=0.0, layout=Layout(flex='2'), max=20.0), HTML(value='')), layout=Layout(dis…"
      ]
     },
     "metadata": {},
     "output_type": "display_data"
    },
    {
     "name": "stdout",
     "output_type": "stream",
     "text": [
      "\n",
      "\u001b[104m\n",
      "BACKGRD : 40.75%  |  PINUS : 34.02%  |  PICEA : 24.57%\n",
      "Test Overall Accuracy: 52.57% Test mIoU : 33.12%  Test Loss: 0.9544\u001b[0m\n",
      "BACKGRD : 40.75%  |  PINUS : 34.02%  |  PICEA : 24.57%\n"
     ]
    },
    {
     "data": {
      "application/vnd.jupyter.widget-view+json": {
       "model_id": "474122a426484902888c9efc85b38926",
       "version_major": 2,
       "version_minor": 0
      },
      "text/plain": [
       "HBox(children=(FloatProgress(value=0.0, layout=Layout(flex='2'), max=5.0), HTML(value='')), layout=Layout(disp…"
      ]
     },
     "metadata": {},
     "output_type": "display_data"
    },
    {
     "name": "stdout",
     "output_type": "stream",
     "text": [
      "\n",
      "\u001b[100m\n",
      "BACKGRD : 24.97%  |  PINUS : 45.07%  |  PICEA : 41.37%\n",
      "Epoch  36 -> Train Overall Accuracy: 54.61% Train mIoU : 37.14% Train Loss: 0.7040\u001b[0m\n",
      "BACKGRD : 24.97%  |  PINUS : 45.07%  |  PICEA : 41.37%\n"
     ]
    },
    {
     "data": {
      "application/vnd.jupyter.widget-view+json": {
       "model_id": "5cac9db7ceb14e8ba0a3cf1634ce90e6",
       "version_major": 2,
       "version_minor": 0
      },
      "text/plain": [
       "HBox(children=(FloatProgress(value=0.0, layout=Layout(flex='2'), max=5.0), HTML(value='')), layout=Layout(disp…"
      ]
     },
     "metadata": {},
     "output_type": "display_data"
    },
    {
     "name": "stdout",
     "output_type": "stream",
     "text": [
      "\n",
      "\u001b[100m\n",
      "BACKGRD : 23.04%  |  PINUS : 45.26%  |  PICEA : 43.68%\n",
      "Epoch  37 -> Train Overall Accuracy: 54.41% Train mIoU : 37.33% Train Loss: 0.7196\u001b[0m\n",
      "BACKGRD : 23.04%  |  PINUS : 45.26%  |  PICEA : 43.68%\n"
     ]
    },
    {
     "data": {
      "application/vnd.jupyter.widget-view+json": {
       "model_id": "6788e4969898448c8320e0ed57c1a91d",
       "version_major": 2,
       "version_minor": 0
      },
      "text/plain": [
       "HBox(children=(FloatProgress(value=0.0, layout=Layout(flex='2'), max=5.0), HTML(value='')), layout=Layout(disp…"
      ]
     },
     "metadata": {},
     "output_type": "display_data"
    },
    {
     "name": "stdout",
     "output_type": "stream",
     "text": [
      "\n",
      "\u001b[100m\n",
      "BACKGRD : 21.81%  |  PINUS : 44.12%  |  PICEA : 42.25%\n",
      "Epoch  38 -> Train Overall Accuracy: 53.14% Train mIoU : 36.06% Train Loss: 0.7146\u001b[0m\n",
      "BACKGRD : 21.81%  |  PINUS : 44.12%  |  PICEA : 42.25%\n"
     ]
    },
    {
     "data": {
      "application/vnd.jupyter.widget-view+json": {
       "model_id": "a232580855cf409a80e1e3426bf90dd2",
       "version_major": 2,
       "version_minor": 0
      },
      "text/plain": [
       "HBox(children=(FloatProgress(value=0.0, layout=Layout(flex='2'), max=5.0), HTML(value='')), layout=Layout(disp…"
      ]
     },
     "metadata": {},
     "output_type": "display_data"
    },
    {
     "name": "stdout",
     "output_type": "stream",
     "text": [
      "\n",
      "\u001b[100m\n",
      "BACKGRD : 21.65%  |  PINUS : 44.90%  |  PICEA : 42.82%\n",
      "Epoch  39 -> Train Overall Accuracy: 53.71% Train mIoU : 36.46% Train Loss: 0.7105\u001b[0m\n",
      "BACKGRD : 21.65%  |  PINUS : 44.90%  |  PICEA : 42.82%\n"
     ]
    },
    {
     "data": {
      "application/vnd.jupyter.widget-view+json": {
       "model_id": "e8f398bb3e0e49b886193a32ece67f97",
       "version_major": 2,
       "version_minor": 0
      },
      "text/plain": [
       "HBox(children=(FloatProgress(value=0.0, layout=Layout(flex='2'), max=5.0), HTML(value='')), layout=Layout(disp…"
      ]
     },
     "metadata": {},
     "output_type": "display_data"
    },
    {
     "name": "stdout",
     "output_type": "stream",
     "text": [
      "\n",
      "\u001b[100m\n",
      "BACKGRD : 22.68%  |  PINUS : 45.37%  |  PICEA : 45.06%\n",
      "Epoch  40 -> Train Overall Accuracy: 54.59% Train mIoU : 37.70% Train Loss: 0.6937\u001b[0m\n",
      "BACKGRD : 22.68%  |  PINUS : 45.37%  |  PICEA : 45.06%\n"
     ]
    },
    {
     "data": {
      "application/vnd.jupyter.widget-view+json": {
       "model_id": "a56ec95bc932469da8d658c86afca63a",
       "version_major": 2,
       "version_minor": 0
      },
      "text/plain": [
       "HBox(children=(FloatProgress(value=0.0, layout=Layout(flex='2'), max=20.0), HTML(value='')), layout=Layout(dis…"
      ]
     },
     "metadata": {},
     "output_type": "display_data"
    },
    {
     "name": "stdout",
     "output_type": "stream",
     "text": [
      "\n",
      "\u001b[104m\n",
      "BACKGRD : 40.03%  |  PINUS : 34.61%  |  PICEA : 20.71%\n",
      "Test Overall Accuracy: 52.33% Test mIoU : 31.78%  Test Loss: 0.9527\u001b[0m\n",
      "BACKGRD : 40.03%  |  PINUS : 34.61%  |  PICEA : 20.71%\n"
     ]
    },
    {
     "data": {
      "application/vnd.jupyter.widget-view+json": {
       "model_id": "5b97ab87c9a14f05a65dff27f5f9d437",
       "version_major": 2,
       "version_minor": 0
      },
      "text/plain": [
       "HBox(children=(FloatProgress(value=0.0, layout=Layout(flex='2'), max=5.0), HTML(value='')), layout=Layout(disp…"
      ]
     },
     "metadata": {},
     "output_type": "display_data"
    },
    {
     "name": "stdout",
     "output_type": "stream",
     "text": [
      "\n",
      "\u001b[100m\n",
      "BACKGRD : 23.13%  |  PINUS : 44.41%  |  PICEA : 43.31%\n",
      "Epoch  41 -> Train Overall Accuracy: 53.96% Train mIoU : 36.95% Train Loss: 0.7191\u001b[0m\n",
      "BACKGRD : 23.13%  |  PINUS : 44.41%  |  PICEA : 43.31%\n"
     ]
    },
    {
     "data": {
      "application/vnd.jupyter.widget-view+json": {
       "model_id": "261ee2e59c5d4c43ac9d5ef43cfe8aca",
       "version_major": 2,
       "version_minor": 0
      },
      "text/plain": [
       "HBox(children=(FloatProgress(value=0.0, layout=Layout(flex='2'), max=5.0), HTML(value='')), layout=Layout(disp…"
      ]
     },
     "metadata": {},
     "output_type": "display_data"
    },
    {
     "name": "stdout",
     "output_type": "stream",
     "text": [
      "\n",
      "\u001b[100m\n",
      "BACKGRD : 22.92%  |  PINUS : 45.30%  |  PICEA : 43.89%\n",
      "Epoch  42 -> Train Overall Accuracy: 54.48% Train mIoU : 37.37% Train Loss: 0.6917\u001b[0m\n",
      "BACKGRD : 22.92%  |  PINUS : 45.30%  |  PICEA : 43.89%\n"
     ]
    },
    {
     "data": {
      "application/vnd.jupyter.widget-view+json": {
       "model_id": "4555f9c454cf4a0fa1d6669ed40bf90d",
       "version_major": 2,
       "version_minor": 0
      },
      "text/plain": [
       "HBox(children=(FloatProgress(value=0.0, layout=Layout(flex='2'), max=5.0), HTML(value='')), layout=Layout(disp…"
      ]
     },
     "metadata": {},
     "output_type": "display_data"
    },
    {
     "name": "stdout",
     "output_type": "stream",
     "text": [
      "\n",
      "\u001b[100m\n",
      "BACKGRD : 22.23%  |  PINUS : 44.91%  |  PICEA : 44.35%\n",
      "Epoch  43 -> Train Overall Accuracy: 54.05% Train mIoU : 37.16% Train Loss: 0.6982\u001b[0m\n",
      "BACKGRD : 22.23%  |  PINUS : 44.91%  |  PICEA : 44.35%\n"
     ]
    },
    {
     "data": {
      "application/vnd.jupyter.widget-view+json": {
       "model_id": "6c1662ec85d7430590ab726458146349",
       "version_major": 2,
       "version_minor": 0
      },
      "text/plain": [
       "HBox(children=(FloatProgress(value=0.0, layout=Layout(flex='2'), max=5.0), HTML(value='')), layout=Layout(disp…"
      ]
     },
     "metadata": {},
     "output_type": "display_data"
    },
    {
     "name": "stdout",
     "output_type": "stream",
     "text": [
      "\n",
      "\u001b[100m\n",
      "BACKGRD : 21.35%  |  PINUS : 44.49%  |  PICEA : 42.82%\n",
      "Epoch  44 -> Train Overall Accuracy: 53.30% Train mIoU : 36.22% Train Loss: 0.7120\u001b[0m\n",
      "BACKGRD : 21.35%  |  PINUS : 44.49%  |  PICEA : 42.82%\n"
     ]
    },
    {
     "data": {
      "application/vnd.jupyter.widget-view+json": {
       "model_id": "eca24110d0914fbb92de3573ef29e450",
       "version_major": 2,
       "version_minor": 0
      },
      "text/plain": [
       "HBox(children=(FloatProgress(value=0.0, layout=Layout(flex='2'), max=5.0), HTML(value='')), layout=Layout(disp…"
      ]
     },
     "metadata": {},
     "output_type": "display_data"
    },
    {
     "name": "stdout",
     "output_type": "stream",
     "text": [
      "\n",
      "\u001b[100m\n",
      "BACKGRD : 22.09%  |  PINUS : 44.87%  |  PICEA : 44.22%\n",
      "Epoch  45 -> Train Overall Accuracy: 53.95% Train mIoU : 37.06% Train Loss: 0.7058\u001b[0m\n",
      "BACKGRD : 22.09%  |  PINUS : 44.87%  |  PICEA : 44.22%\n"
     ]
    },
    {
     "data": {
      "application/vnd.jupyter.widget-view+json": {
       "model_id": "63ca11041ae840bbaa3bcbdc1696cbbb",
       "version_major": 2,
       "version_minor": 0
      },
      "text/plain": [
       "HBox(children=(FloatProgress(value=0.0, layout=Layout(flex='2'), max=20.0), HTML(value='')), layout=Layout(dis…"
      ]
     },
     "metadata": {},
     "output_type": "display_data"
    },
    {
     "name": "stdout",
     "output_type": "stream",
     "text": [
      "\n",
      "\u001b[104m\n",
      "BACKGRD : 42.82%  |  PINUS : 34.84%  |  PICEA : 22.10%\n",
      "Test Overall Accuracy: 54.04% Test mIoU : 33.25%  Test Loss: 0.9218\u001b[0m\n",
      "BACKGRD : 42.82%  |  PINUS : 34.84%  |  PICEA : 22.10%\n"
     ]
    },
    {
     "data": {
      "application/vnd.jupyter.widget-view+json": {
       "model_id": "18ea81c6ec204790b534a69c17eead74",
       "version_major": 2,
       "version_minor": 0
      },
      "text/plain": [
       "HBox(children=(FloatProgress(value=0.0, layout=Layout(flex='2'), max=5.0), HTML(value='')), layout=Layout(disp…"
      ]
     },
     "metadata": {},
     "output_type": "display_data"
    },
    {
     "name": "stdout",
     "output_type": "stream",
     "text": [
      "\n",
      "\u001b[100m\n",
      "BACKGRD : 23.49%  |  PINUS : 45.58%  |  PICEA : 45.54%\n",
      "Epoch  46 -> Train Overall Accuracy: 55.01% Train mIoU : 38.20% Train Loss: 0.6936\u001b[0m\n",
      "BACKGRD : 23.49%  |  PINUS : 45.58%  |  PICEA : 45.54%\n"
     ]
    },
    {
     "data": {
      "application/vnd.jupyter.widget-view+json": {
       "model_id": "a6f2ab38aabf42ddb0626fe109f16eb3",
       "version_major": 2,
       "version_minor": 0
      },
      "text/plain": [
       "HBox(children=(FloatProgress(value=0.0, layout=Layout(flex='2'), max=5.0), HTML(value='')), layout=Layout(disp…"
      ]
     },
     "metadata": {},
     "output_type": "display_data"
    },
    {
     "name": "stdout",
     "output_type": "stream",
     "text": [
      "\n",
      "\u001b[100m\n",
      "BACKGRD : 19.72%  |  PINUS : 44.06%  |  PICEA : 43.51%\n",
      "Epoch  47 -> Train Overall Accuracy: 52.60% Train mIoU : 35.76% Train Loss: 0.7037\u001b[0m\n",
      "BACKGRD : 19.72%  |  PINUS : 44.06%  |  PICEA : 43.51%\n"
     ]
    },
    {
     "data": {
      "application/vnd.jupyter.widget-view+json": {
       "model_id": "7817598cf7064c19bff03ef47befd61c",
       "version_major": 2,
       "version_minor": 0
      },
      "text/plain": [
       "HBox(children=(FloatProgress(value=0.0, layout=Layout(flex='2'), max=5.0), HTML(value='')), layout=Layout(disp…"
      ]
     },
     "metadata": {},
     "output_type": "display_data"
    },
    {
     "name": "stdout",
     "output_type": "stream",
     "text": [
      "\n",
      "\u001b[100m\n",
      "BACKGRD : 20.39%  |  PINUS : 44.38%  |  PICEA : 42.74%\n",
      "Epoch  48 -> Train Overall Accuracy: 52.99% Train mIoU : 35.84% Train Loss: 0.7040\u001b[0m\n",
      "BACKGRD : 20.39%  |  PINUS : 44.38%  |  PICEA : 42.74%\n"
     ]
    },
    {
     "data": {
      "application/vnd.jupyter.widget-view+json": {
       "model_id": "36051017ae6b4fdd9bbae1a74da86505",
       "version_major": 2,
       "version_minor": 0
      },
      "text/plain": [
       "HBox(children=(FloatProgress(value=0.0, layout=Layout(flex='2'), max=5.0), HTML(value='')), layout=Layout(disp…"
      ]
     },
     "metadata": {},
     "output_type": "display_data"
    },
    {
     "name": "stdout",
     "output_type": "stream",
     "text": [
      "\n",
      "\u001b[100m\n",
      "BACKGRD : 22.66%  |  PINUS : 45.41%  |  PICEA : 44.07%\n",
      "Epoch  49 -> Train Overall Accuracy: 54.48% Train mIoU : 37.38% Train Loss: 0.7052\u001b[0m\n",
      "BACKGRD : 22.66%  |  PINUS : 45.41%  |  PICEA : 44.07%\n"
     ]
    },
    {
     "data": {
      "application/vnd.jupyter.widget-view+json": {
       "model_id": "270d6f60129344aaae4c59b2e7256e45",
       "version_major": 2,
       "version_minor": 0
      },
      "text/plain": [
       "HBox(children=(FloatProgress(value=0.0, layout=Layout(flex='2'), max=20.0), HTML(value='')), layout=Layout(dis…"
      ]
     },
     "metadata": {},
     "output_type": "display_data"
    },
    {
     "name": "stdout",
     "output_type": "stream",
     "text": [
      "\n",
      "\u001b[104m\n",
      "BACKGRD : 40.37%  |  PINUS : 34.57%  |  PICEA : 24.20%\n",
      "Test Overall Accuracy: 52.80% Test mIoU : 33.05%  Test Loss: 0.9453\u001b[0m\n",
      "BACKGRD : 40.37%  |  PINUS : 34.57%  |  PICEA : 24.20%\n"
     ]
    },
    {
     "data": {
      "image/png": "[encoded data removed]",
      "text/plain": [
       "<Figure size 2160x720 with 3 Axes>"
      ]
     },
     "metadata": {
      "needs_background": "light"
     },
     "output_type": "display_data"
    },
    {
     "name": "stdout",
     "output_type": "stream",
     "text": [
      "Training finished in 5096.999503850937s\n"
     ]
    }
   ],
   "source": [
    "args = mock.Mock() #stores the parameters\n",
    "args.n_epoch = 50\n",
    "args.n_epoch_test = int(5) #periodicity of evaluation on test set\n",
    "args.batch_size = 4\n",
    "args.n_class = 3\n",
    "args.n_channel = 6 if use_cir and use_rgb else 3\n",
    "args.conv_width = [32,32,32,32,32,32]\n",
    "args.dconv_width = [32,32,32,32]\n",
    "args.cuda = 0\n",
    "args.lr = 5e-4\n",
    "\n",
    "a = time()\n",
    "trained_model = train_full(args)\n",
    "b = time()\n",
    "\n",
    "print('Training finished in ' + str(b-a) + 's')"
   ]
  },
  {
   "cell_type": "code",
   "execution_count": 13,
   "metadata": {},
   "outputs": [
    {
     "name": "stdout",
     "output_type": "stream",
     "text": [
      "torch.Size([20, 6, 500, 500])\n",
      "torch.Size([20, 500, 500])\n",
      "tensor(255.)\n",
      "tensor(1.)\n",
      "tensor(2)\n",
      "tensor(0)\n"
     ]
    }
   ],
   "source": [
    "print(X_t.shape)\n",
    "print(y_t.shape)\n",
    "\n",
    "print(X_t.max())\n",
    "print(X_t.min())\n",
    "print(y_t.max())\n",
    "print(y_t.min())"
   ]
  },
  {
   "cell_type": "code",
   "execution_count": null,
   "metadata": {},
   "outputs": [],
   "source": [
    "print()"
   ]
  },
  {
   "cell_type": "code",
   "execution_count": 14,
   "metadata": {},
   "outputs": [],
   "source": [
    "def plot_rgb_cir_gt_pred(tile_index, data, gt, model, cir, rgb):\n",
    "    # Function to plot prediction vs ground truth\n",
    "    \n",
    "    # Plotting\n",
    "    plt.figure(facecolor='white')\n",
    "\n",
    "    data = data[tile_index,:,:,:]\n",
    "    pred = model(data[None,:,:,:]).cpu().detach().numpy()\n",
    "    pred = pred[0,:,:,:].argmax(0).squeeze()\n",
    "    \n",
    "    unique, counts = np.unique(pred, return_counts=True)\n",
    "    print(dict(zip(unique, counts)))\n",
    "    \n",
    "    data = data.cpu().numpy().astype(np.uint8)\n",
    "    \n",
    "    if cir and rgb:\n",
    "        plt.subplot(1, 4, 1)\n",
    "        plt.imshow(data[:3].transpose([1,2,0]))\n",
    "        plt.title('NIR Red Green composite')\n",
    "        plt.axis('off')\n",
    "\n",
    "        plt.subplot(1, 4, 2)\n",
    "        plt.imshow(data[-3:].transpose([1,2,0]))\n",
    "        plt.title('Red Green Blue composite')\n",
    "        plt.axis('off')\n",
    "        \n",
    "        plt.subplot(1, 4, 3)\n",
    "        plt.imshow(gt[tile_index,:,:], CMAP)\n",
    "        plt.title('GT Labels')\n",
    "        plt.axis('off')\n",
    "\n",
    "        plt.subplot(1, 4, 4)\n",
    "        plt.imshow(pred, CMAP)\n",
    "        plt.title('Predicted Labels')\n",
    "        plt.axis('off')\n",
    "    \n",
    "    elif cir or rgb:\n",
    "        plt.subplot(1, 3, 1)\n",
    "        plt.imshow(data.transpose([1,2,0]))\n",
    "        if cir:\n",
    "            plt.title('NIR Red Green composite')\n",
    "        else:\n",
    "            plt.title('Red Green Blue composite')\n",
    "        plt.axis('off')\n",
    "\n",
    "        plt.subplot(1, 3, 2)\n",
    "        plt.imshow(gt[tile_index,:,:], CMAP)\n",
    "        plt.title('GT Labels')\n",
    "        plt.axis('off')\n",
    "\n",
    "        plt.subplot(1, 3, 3)\n",
    "        plt.imshow(pred, CMAP)\n",
    "        plt.title('Predicted Labels')\n",
    "        plt.axis('off')"
   ]
  },
  {
   "cell_type": "code",
   "execution_count": 15,
   "metadata": {},
   "outputs": [
    {
     "name": "stdout",
     "output_type": "stream",
     "text": [
      "{0: 62307, 1: 180630, 2: 7063}\n"
     ]
    },
    {
     "data": {
      "image/png": "[encoded data removed]",
      "text/plain": [
       "<Figure size 1152x576 with 4 Axes>"
      ]
     },
     "metadata": {},
     "output_type": "display_data"
    }
   ],
   "source": [
    "plot_rgb_cir_gt_pred(3, X_t, y_t, trained_model, use_cir, use_rgb)"
   ]
  },
  {
   "cell_type": "code",
   "execution_count": null,
   "metadata": {},
   "outputs": [],
   "source": []
  }
 ],
 "metadata": {
  "kernelspec": {
   "display_name": "Python 3",
   "language": "python",
   "name": "python3"
  },
  "language_info": {
   "codemirror_mode": {
    "name": "ipython",
    "version": 3
   },
   "file_extension": ".py",
   "mimetype": "text/x-python",
   "name": "python",
   "nbconvert_exporter": "python",
   "pygments_lexer": "ipython3",
   "version": "3.7.6"
  }
 },
 "nbformat": 4,
 "nbformat_minor": 4
}
