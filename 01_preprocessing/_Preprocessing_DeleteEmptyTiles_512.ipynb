{
 "cells": [
  {
   "cell_type": "code",
   "execution_count": 20,
   "metadata": {},
   "outputs": [],
   "source": [
    "import os\n",
    "import numpy as np\n",
    "import imageio"
   ]
  },
  {
   "cell_type": "code",
   "execution_count": 21,
   "metadata": {},
   "outputs": [],
   "source": [
    "directory = '../data/jeseniky/blackandwhite/training_only_spectrozonal_area/GT_3class/'\n",
    "ref_directory = '../data/jeseniky/blackandwhite/training_only_spectrozonal_area/PAN/'"
   ]
  },
  {
   "cell_type": "code",
   "execution_count": null,
   "metadata": {},
   "outputs": [],
   "source": [
    "def check_empty(filepath):\n",
    "    array = imageio.imread(filepath)\n",
    "    if np.amax(array) == np.amin(array):\n",
    "        return True\n",
    "    else:\n",
    "        return False"
   ]
  },
  {
   "cell_type": "code",
   "execution_count": null,
   "metadata": {},
   "outputs": [],
   "source": [
    "i = 0\n",
    "for filename in os.listdir(directory):\n",
    "    if check_empty(directory + filename):\n",
    "        # print('Deleted file ' + str(filename))\n",
    "        os.remove(directory + filename)\n",
    "        i += 1\n",
    "\n",
    "print('Finished and deleted ' + str(i) + ' files.')"
   ]
  },
  {
   "cell_type": "markdown",
   "metadata": {},
   "source": [
    "Delete tiles with a percentile of the same value"
   ]
  },
  {
   "cell_type": "code",
   "execution_count": 9,
   "metadata": {},
   "outputs": [],
   "source": [
    "def check_percentile(filepath, perc):\n",
    "    array = imageio.imread(filepath)\n",
    "    if np.percentile(array, perc) == np.amin(array):\n",
    "        return True\n",
    "    else:\n",
    "        return False"
   ]
  },
  {
   "cell_type": "code",
   "execution_count": 17,
   "metadata": {},
   "outputs": [
    {
     "name": "stdout",
     "output_type": "stream",
     "text": [
      "Finished and deleted 103 files.\n"
     ]
    }
   ],
   "source": [
    "i = 0\n",
    "percentile = 30\n",
    "for filename in os.listdir(directory):\n",
    "    if check_percentile(directory + filename, percentile):\n",
    "        # print('Deleted file ' + str(filename))\n",
    "        os.remove(directory + filename)\n",
    "        i += 1\n",
    "\n",
    "print('Finished and deleted ' + str(i) + ' files.')"
   ]
  },
  {
   "cell_type": "code",
   "execution_count": 23,
   "metadata": {},
   "outputs": [
    {
     "name": "stdout",
     "output_type": "stream",
     "text": [
      "Finished and deleted 2896 files.\n"
     ]
    }
   ],
   "source": [
    "# for ground truth files only\n",
    "\n",
    "filename_list = os.listdir(directory)\n",
    "reffile_list = os.listdir(ref_directory)\n",
    "\n",
    "str_ending_list = []\n",
    "for filename in filename_list:\n",
    "    str_ending_list.append(filename[-9:])\n",
    "\n",
    "ref_ending_list = []\n",
    "for reffile in reffile_list:\n",
    "    ref_ending_list.append(reffile[-9:])\n",
    "\n",
    "i = 0\n",
    "for str_ending in str_ending_list:\n",
    "    if str_ending not in ref_ending_list:\n",
    "        i += 1\n",
    "        os.remove(directory + ('classified_spectrozonal_V2_readytotile_') + str(str_ending))\n",
    "\n",
    "print('Finished and deleted ' + str(i) + ' files.')"
   ]
  }
 ],
 "metadata": {
  "kernelspec": {
   "display_name": "Python 3",
   "language": "python",
   "name": "python3"
  },
  "language_info": {
   "codemirror_mode": {
    "name": "ipython",
    "version": 3
   },
   "file_extension": ".py",
   "mimetype": "text/x-python",
   "name": "python",
   "nbconvert_exporter": "python",
   "pygments_lexer": "ipython3",
   "version": "3.7.6"
  }
 },
 "nbformat": 4,
 "nbformat_minor": 4
}
