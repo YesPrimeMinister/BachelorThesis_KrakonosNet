{
 "cells": [
  {
   "cell_type": "code",
   "execution_count": null,
   "metadata": {},
   "outputs": [],
   "source": [
    "import os\n",
    "import numpy as np\n",
    "import imageio"
   ]
  },
  {
   "cell_type": "code",
   "execution_count": null,
   "metadata": {},
   "outputs": [],
   "source": [
    "directory = 'c:/Users/dd/Documents/NATUR_CUNI/_bc/data/GT_processing/ndvi_and_height/tiles__012_2_m__0_NDVI__8bit/'\n",
    "ref_directory = 'c:/Users/dd/Documents/NATUR_CUNI/_bc/data/GDAL_Samples_512/RGB/'"
   ]
  },
  {
   "cell_type": "code",
   "execution_count": null,
   "metadata": {},
   "outputs": [],
   "source": [
    "def check_empty(filepath):\n",
    "    array = imageio.imread(filepath)\n",
    "    if np.amax(array) == np.amin(array):\n",
    "        return True\n",
    "    else:\n",
    "        return False"
   ]
  },
  {
   "cell_type": "code",
   "execution_count": null,
   "metadata": {},
   "outputs": [],
   "source": [
    "i = 0\n",
    "for filename in os.listdir(directory):\n",
    "    if check_empty(directory + filename):\n",
    "        print('Deleted file ' + str(filename))\n",
    "        os.remove(directory + filename)\n",
    "        i += 1\n",
    "\n",
    "print('Finished and deleted ' + str(i) + ' files.')"
   ]
  },
  {
   "cell_type": "code",
   "execution_count": null,
   "metadata": {},
   "outputs": [],
   "source": [
    "# for ground truth files only\n",
    "\n",
    "filename_list = os.listdir(directory)\n",
    "reffile_list = os.listdir(ref_directory)\n",
    "\n",
    "str_ending_list = []\n",
    "for filename in filename_list:\n",
    "    str_ending_list.append(filename[-9:])\n",
    "\n",
    "ref_ending_list = []\n",
    "for reffile in reffile_list:\n",
    "    ref_ending_list.append(reffile[-9:])\n",
    "\n",
    "i = 0\n",
    "for str_ending in str_ending_list:\n",
    "    if str_ending not in ref_ending_list:\n",
    "        i += 1\n",
    "        os.remove(directory + ('GT_') + str(str_ending))\n",
    "\n",
    "print('Finished and deleted ' + str(i) + ' files.')"
   ]
  }
 ],
 "metadata": {
  "kernelspec": {
   "display_name": "Python 3",
   "language": "python",
   "name": "python3"
  },
  "language_info": {
   "codemirror_mode": {
    "name": "ipython",
    "version": 3
   },
   "file_extension": ".py",
   "mimetype": "text/x-python",
   "name": "python",
   "nbconvert_exporter": "python",
   "pygments_lexer": "ipython3",
   "version": "3.7.6"
  }
 },
 "nbformat": 4,
 "nbformat_minor": 4
}
