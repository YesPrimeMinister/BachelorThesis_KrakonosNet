{
 "cells": [
  {
   "cell_type": "markdown",
   "metadata": {},
   "source": [
    "# Deleting empty patches before passing data to U-net\n",
    "    Jakub Dvorak /jakub.dvorak@natur.cuni.cz/         2020/2021\n",
    "\n",
    "    Student, Dept. of Applied Geoinformatics and Cartography, Faculty of Science, Charles University"
   ]
  },
  {
   "cell_type": "code",
   "execution_count": null,
   "metadata": {},
   "outputs": [],
   "source": [
    "# COMMON IMPORTS \n",
    "import os\n",
    "import numpy as np\n",
    "import imageio"
   ]
  },
  {
   "cell_type": "markdown",
   "metadata": {},
   "source": [
    "## Delete tiles based on containing no data\n",
    "This portion of the script deletes all rasters from a folder which only contain one value (their minimum value equals the maximum value).\n",
    "\n",
    "Variable ***empty_dir*** needs to be set as the folder to delete from."
   ]
  },
  {
   "cell_type": "code",
   "execution_count": null,
   "metadata": {},
   "outputs": [],
   "source": [
    "def check_empty(filepath):\n",
    "    array = imageio.imread(filepath)\n",
    "    if np.amax(array) == np.amin(array):\n",
    "        return True\n",
    "    else:\n",
    "        return False"
   ]
  },
  {
   "cell_type": "code",
   "execution_count": null,
   "metadata": {},
   "outputs": [],
   "source": [
    "empty_dir = 'E:/datasets/test_unet/Krkonose2012/overlap/testing_preprocessing/mhs'\n",
    "\n",
    "i = 0\n",
    "for filename in os.listdir(empty_dir):\n",
    "    filepath = os.path.join(empty_dir, filename)\n",
    "    if check_empty(filepath):\n",
    "        os.remove(filepath)\n",
    "        i += 1\n",
    "\n",
    "print(f'Finished and deleted {str(i)} files.')"
   ]
  },
  {
   "cell_type": "markdown",
   "metadata": {},
   "source": [
    "## Delete tiles based on percentile of minimums\n",
    "This portion of the script deletes all rasters from a folder where a certain percentile of the raster is the minimum value (useful when the minimum value is nodata). Variables *percentile_dir* and *percentile* need to be set:\n",
    "\n",
    "***percentile_dir*** - folder to delete from\n",
    "\n",
    "***percentile*** /integer 0-100/ - which percentile should be used to decide if the patch should be deleted"
   ]
  },
  {
   "cell_type": "code",
   "execution_count": null,
   "metadata": {},
   "outputs": [],
   "source": [
    "def check_percentile(filepath, perc):\n",
    "    array = imageio.imread(filepath)\n",
    "    if np.percentile(array, perc) == np.amin(array):\n",
    "        return True\n",
    "    else:\n",
    "        return False"
   ]
  },
  {
   "cell_type": "code",
   "execution_count": null,
   "metadata": {},
   "outputs": [],
   "source": [
    "percentile_dir = 'E:/datasets/test_unet/Krkonose2012/overlap/testing_preprocessing/gt'\n",
    "percentile = 50\n",
    "\n",
    "i = 0\n",
    "for filename in os.listdir(percentile_dir):\n",
    "    filepath = os.path.join(percentile_dir, filename)\n",
    "    if check_percentile(filepath, percentile):\n",
    "        os.remove(filepath)\n",
    "        i += 1\n",
    "\n",
    "print(f'Finished and deleted {str(i)} files.')"
   ]
  },
  {
   "cell_type": "markdown",
   "metadata": {},
   "source": [
    "## Delete tiles based on file endings in a reference folder\n",
    "Change variables *dataset_dir*, *reference_dir*, and *end_len*:\n",
    "\n",
    "***dataset_dir*** - directory containing files to be deleted\n",
    "\n",
    "***reference_dir*** - reference directory which is already missing the corresponding files\n",
    "\n",
    "***end_len*** - length of the unique file ending identifier including file extension, e.g.: File *gt_fullsize_05_06.tif* with a unique identifier *05_06* requires setting the value to the length of *05_06.tif*, which is 9 characters."
   ]
  },
  {
   "cell_type": "code",
   "execution_count": null,
   "metadata": {},
   "outputs": [],
   "source": [
    "dataset_dir = 'E:/datasets/test_unet/Krkonose2012/overlap/testing_preprocessing/MHS'\n",
    "reference_dir = 'E:/datasets/test_unet/Krkonose2012/overlap/testing_preprocessing/GT'\n",
    "\n",
    "end_len = 9\n",
    "\n",
    "\n",
    "data_filename_prefix = os.listdir(dataset_dir)[0][:-end_len]\n",
    "data_ending_set = set()\n",
    "for filename in os.listdir(dataset_dir):\n",
    "    data_ending_set.add(filename[-end_len:])\n",
    "\n",
    "ref_ending_set = set()\n",
    "for filename in os.listdir(reference_dir):\n",
    "    ref_ending_set.add(filename[-end_len:])\n",
    "\n",
    "    \n",
    "difference = gt_ending_set.difference(ref_ending_set)\n",
    "if not difference: ix_gt = 0\n",
    "\n",
    "for ix_gt, file_ending in enumerate(difference):\n",
    "    delete_file = os.path.join(dataset_dir, data_filename_prefix + file_ending)\n",
    "    os.remove(delete_file)\n",
    "\n",
    "print(f'Finished and deleted {str(ix_gt)} files.')"
   ]
  },
  {
   "cell_type": "code",
   "execution_count": null,
   "metadata": {},
   "outputs": [],
   "source": []
  }
 ],
 "metadata": {
  "kernelspec": {
   "display_name": "Python 3",
   "language": "python",
   "name": "python3"
  },
  "language_info": {
   "codemirror_mode": {
    "name": "ipython",
    "version": 3
   },
   "file_extension": ".py",
   "mimetype": "text/x-python",
   "name": "python",
   "nbconvert_exporter": "python",
   "pygments_lexer": "ipython3",
   "version": "3.9.1"
  }
 },
 "nbformat": 4,
 "nbformat_minor": 4
}
