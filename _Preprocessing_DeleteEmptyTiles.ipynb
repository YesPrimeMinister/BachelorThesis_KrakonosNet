{
 "cells": [
  {
   "cell_type": "code",
   "execution_count": 9,
   "metadata": {},
   "outputs": [],
   "source": [
    "import os\n",
    "\n",
    "dir_CIR = \"c:\\\\Users\\\\dd\\\\Documents\\\\NATUR_CUNI\\\\_bc\\\\data\\\\GDAL_Samples\\\\CIR\"\n",
    "dir_RGB = \"c:\\\\Users\\\\dd\\\\Documents\\\\NATUR_CUNI\\\\_bc\\\\data\\\\GDAL_Samples\\\\RGB\"\n",
    "dir_GT = \"c:\\\\Users\\\\dd\\\\Documents\\\\NATUR_CUNI\\\\_bc\\\\data\\\\GT_processing\\\\ndvi_and_height\\\\tiles\""
   ]
  },
  {
   "cell_type": "code",
   "execution_count": 10,
   "metadata": {},
   "outputs": [],
   "source": [
    "\"\"\"\n",
    "I want to delete tiles with numbers:\n",
    "1-9_1-9\n",
    "1-9_10-30\n",
    "1-9_41-50\n",
    "10-30_21-30\n",
    "21-50_1-9\n",
    "31-50_10-20\n",
    "31-50_41-50\n",
    "\"\"\"\n",
    "\n",
    "def build_delete_list():\n",
    "    num_list = []\n",
    "    for i in range(50):\n",
    "        for j in range(50):\n",
    "            if i<9 and j<9:\n",
    "                num_list.append(\"0\"+str(i+1)+\"_0\"+str(j+1))\n",
    "            elif j==9 and i<20:\n",
    "                num_list.append(str(i+1)+\"_\"+str(j+1))\n",
    "            elif j<9 and i<30:\n",
    "                num_list.append(str(i+1)+\"_0\"+str(j+1))\n",
    "            elif j<9 and i>39:\n",
    "                num_list.append(str(i+1)+\"_0\"+str(j+1))\n",
    "            elif j==9 and i>39:\n",
    "                num_list.append(str(i+1)+\"_\"+str(j+1))\n",
    "            elif j<30 and i>19 and i<30:\n",
    "                num_list.append(str(i+1)+\"_\"+str(j+1))\n",
    "            elif j>19 and i<9:\n",
    "                num_list.append(\"0\"+str(i+1)+\"_\"+str(j+1))\n",
    "            elif j>19 and i==9:\n",
    "                num_list.append(str(i+1)+\"_\"+str(j+1))\n",
    "            elif j>29 and i<20:\n",
    "                num_list.append(str(i+1)+\"_\"+str(j+1))\n",
    "            elif j>29 and i>39:\n",
    "                num_list.append(str(i+1)+\"_\"+str(j+1))\n",
    "    print(str(len(num_list)) + \" tiles to delete.\")\n",
    "    return num_list"
   ]
  },
  {
   "cell_type": "code",
   "execution_count": 11,
   "metadata": {},
   "outputs": [],
   "source": [
    "def delete_samples(in_dir, delete_list):\n",
    "    filename_list = os.listdir(in_dir)\n",
    "    idk_why_it_deletes_these = [\"31_10\", \"32_10\", \"33_10\", \"34_10\", \"35_10\",\"36_10\", \"37_10\", \"38_10\", \"39_10\"]\n",
    "    for i in filename_list:\n",
    "        for j in idk_why_it_deletes_these:\n",
    "            if j in i:\n",
    "                filename_list.remove(i)\n",
    "    for i in filename_list:\n",
    "        for j in delete_list:\n",
    "            if j in i:\n",
    "                try:\n",
    "                    os.remove(in_dir + \"\\\\\" + i)\n",
    "                except:\n",
    "                    pass"
   ]
  },
  {
   "cell_type": "code",
   "execution_count": 12,
   "metadata": {},
   "outputs": [
    {
     "name": "stdout",
     "output_type": "stream",
     "text": [
      "1300 tiles to delete.\n"
     ]
    }
   ],
   "source": [
    "del_list = build_delete_list()"
   ]
  },
  {
   "cell_type": "code",
   "execution_count": null,
   "metadata": {},
   "outputs": [],
   "source": [
    "delete_samples(dir_CIR, del_list)"
   ]
  },
  {
   "cell_type": "code",
   "execution_count": null,
   "metadata": {},
   "outputs": [],
   "source": [
    "delete_samples(dir_RGB, del_list)"
   ]
  },
  {
   "cell_type": "code",
   "execution_count": 13,
   "metadata": {},
   "outputs": [],
   "source": [
    "delete_samples(dir_GT, del_list)"
   ]
  }
 ],
 "metadata": {
  "kernelspec": {
   "display_name": "Python 3",
   "language": "python",
   "name": "python3"
  },
  "language_info": {
   "codemirror_mode": {
    "name": "ipython",
    "version": 3
   },
   "file_extension": ".py",
   "mimetype": "text/x-python",
   "name": "python",
   "nbconvert_exporter": "python",
   "pygments_lexer": "ipython3",
   "version": "3.7.6"
  }
 },
 "nbformat": 4,
 "nbformat_minor": 4
}
