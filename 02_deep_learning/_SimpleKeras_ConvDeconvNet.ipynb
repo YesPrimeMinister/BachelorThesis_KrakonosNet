{
 "cells": [
  {
   "cell_type": "code",
   "execution_count": 1,
   "metadata": {},
   "outputs": [],
   "source": [
    "import os\n",
    "\n",
    "import numpy as np\n",
    "import imageio\n",
    "import matplotlib\n",
    "import matplotlib.pyplot as plt\n",
    "from time import time as time\n",
    "\n",
    "\n",
    "# GLOBAL SETTINGS\n",
    "PlotSize = 8                                     # Size of plots\n",
    "matplotlib.rcParams['figure.figsize'] = [PlotSize*2, PlotSize]  \n",
    "CMAP = matplotlib.colors.ListedColormap(['black', 'white', 'orange'])               # Color mapping \n",
    "np.set_printoptions(precision=2, suppress=True)  # Array print precision\n",
    "\n",
    "# CLASS AND FEATURE DESCRIPTION\n",
    "class_names = ['BACKGRD','PINUS','PICEA']\n",
    "feature_names = ['NIR','RED','GREEN']\n",
    "num_classes = len(class_names)\n",
    "num_features = len(feature_names)\n",
    "\n",
    "# PATHS TO TRAIN/TEST DATA\n",
    "data_path = '../data/split_033__066/'\n",
    "training_set_path = data_path + 'train/'         # Relative path to training patch root folder\n",
    "test_set_path =     data_path + 'test/'         # Relative path to test patch root folder\n",
    "\n",
    "num_of_training_tiles = len(os.listdir(training_set_path + 'CIR/'))\n",
    "num_of_test_tiles = len(os.listdir(test_set_path + 'CIR/'))"
   ]
  },
  {
   "cell_type": "code",
   "execution_count": 2,
   "metadata": {},
   "outputs": [
    {
     "ename": "SyntaxError",
     "evalue": "invalid syntax (<ipython-input-2-7ba3a54be296>, line 2)",
     "output_type": "error",
     "traceback": [
      "\u001b[1;36m  File \u001b[1;32m\"<ipython-input-2-7ba3a54be296>\"\u001b[1;36m, line \u001b[1;32m2\u001b[0m\n\u001b[1;33m    print(help np.combine())\u001b[0m\n\u001b[1;37m                ^\u001b[0m\n\u001b[1;31mSyntaxError\u001b[0m\u001b[1;31m:\u001b[0m invalid syntax\n"
     ]
    }
   ],
   "source": [
    "print(torch.cuda.device_count())"
   ]
  },
  {
   "cell_type": "code",
   "execution_count": null,
   "metadata": {},
   "outputs": [],
   "source": [
    "#[4] building the train and test sets\n",
    "data_file = h5py.File(\"landCover.hdf5\",'r')\n",
    "train_obs = data_file['train_observation'][:]\n",
    "train_gt = data_file['train_gt'][:]\n",
    "test_obs = data_file['test_observation'][:]\n",
    "test_gt = data_file['test_gt'][:]\n",
    "n_train = train_obs.shape[0]\n",
    "n_test = test_obs.shape[0]\n",
    "class_names = [\"Urban\", \"Water\", \"Fields\", \"Road\", \"Vegetation\", \"Buildings\"]\n",
    "\n",
    "\n",
    "print(\"%d tiles for training, %d tiles for testing\" % (n_train, n_test))"
   ]
  },
  {
   "cell_type": "code",
   "execution_count": null,
   "metadata": {},
   "outputs": [],
   "source": [
    "def read_patch(root_folder):\n",
    "    ##########################################################\n",
    "    # READ IMAGES as FLOAT\n",
    "    patch_file_list = os.listdir(root_folder + 'CIR/')\n",
    "    patch_list = []\n",
    "\n",
    "    for file in patch_file_list:\n",
    "        image_patch = imageio.imread(root_folder + 'CIR/' + file).astype(np.float32)\n",
    "    \n",
    "        h, w = image_patch.shape[:2]\n",
    "        num_samples = h*w\n",
    "    \n",
    "        patch_list.append(image_patch[:,:,:].reshape((num_samples, 3)))\n",
    "        del image_patch\n",
    "\n",
    "    features = np.concatenate(patch_list, axis=0)\n",
    "\n",
    "\n",
    "    gt_file_list = os.listdir(root_folder + 'GT/')\n",
    "    gt_list = []\n",
    "\n",
    "    for file in gt_file_list:\n",
    "        gt_patch = imageio.imread(root_folder + 'GT/' + file).astype(np.float32)\n",
    " \n",
    "        h, w = gt_patch.shape[:2]\n",
    "        num_samples = h*w\n",
    "    \n",
    "        gt_list.append(gt_patch[:,:].reshape((num_samples)))\n",
    "        del gt_patch\n",
    "\n",
    "    ground_truth = np.concatenate(gt_list, axis=0)\n",
    "\n",
    "    ########################################################## \n",
    "    return features, ground_truth"
   ]
  },
  {
   "cell_type": "code",
   "execution_count": null,
   "metadata": {},
   "outputs": [],
   "source": [
    "a = time()\n",
    "X, y = read_patch(training_set_path)\n",
    "b = time()\n",
    "X_t, y_t = read_patch(test_set_path)\n",
    "c = time()\n",
    "\n",
    "print('Training set loaded in ' + str(b-a) + 's')\n",
    "print('Testing set loaded in ' + str(c-b) + 's')\n",
    "print(X.shape)\n",
    "print(y.shape)"
   ]
  }
 ],
 "metadata": {
  "kernelspec": {
   "display_name": "Python 3",
   "language": "python",
   "name": "python3"
  },
  "language_info": {
   "codemirror_mode": {
    "name": "ipython",
    "version": 3
   },
   "file_extension": ".py",
   "mimetype": "text/x-python",
   "name": "python",
   "nbconvert_exporter": "python",
   "pygments_lexer": "ipython3",
   "version": "3.7.6"
  }
 },
 "nbformat": 4,
 "nbformat_minor": 4
}
