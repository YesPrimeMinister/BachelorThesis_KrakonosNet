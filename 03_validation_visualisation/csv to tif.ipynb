{
 "cells": [
  {
   "cell_type": "code",
   "execution_count": 1,
   "metadata": {},
   "outputs": [],
   "source": [
    "import os\n",
    "import numpy as np\n",
    "import imageio\n",
    "import matplotlib\n",
    "import matplotlib.pyplot as plt\n",
    "\n",
    "# PATHS TO TRAIN/TEST DATA\n",
    "data_paths = ['../data/01_99/','../data/33_66/','../data/66_33/']"
   ]
  },
  {
   "cell_type": "code",
   "execution_count": 2,
   "metadata": {},
   "outputs": [
    {
     "name": "stdout",
     "output_type": "stream",
     "text": [
      "mlc\n",
      "svm\n",
      "rf\n",
      "mlc\n",
      "svm\n",
      "rf\n",
      "mlc\n",
      "svm\n",
      "rf\n"
     ]
    }
   ],
   "source": [
    "for data_path in data_paths:\n",
    "    y_mlc = np.loadtxt(data_path + 'results/mlc.csv', dtype=np.uint8)\n",
    "    imageio.imwrite(data_path + 'results/mlc.tif', y_mlc.reshape(2,int(y_mlc.shape[0]/2)))\n",
    "    print('mlc')\n",
    "    \n",
    "    y_svm = np.loadtxt(data_path + 'results/svm.csv', dtype=np.uint8)\n",
    "    imageio.imwrite(data_path + 'results/svm.tif', y_svm.reshape(2,int(y_svm.shape[0]/2)))\n",
    "    print('svm')\n",
    "    \n",
    "    y_rf = np.loadtxt(data_path + 'results/rf.csv',  dtype=np.uint8)\n",
    "    imageio.imwrite(data_path + 'results/rf.tif', y_rf.reshape(2,int(y_rf.shape[0]/2)))\n",
    "    print('rf')\n",
    "    \n",
    "    #y_unet = np.loadtxt(data_path + 'results/mlc.csv', dtype=np.uint8)\n",
    "    #print('Loaded unet')\n",
    "    \n",
    "    #y_krakonosnet = np.loadtxt(results_set_path + 'mlc.csv', dtype=np.uint8)\n",
    "    #print('Loaded krakonosnet')"
   ]
  },
  {
   "cell_type": "code",
   "execution_count": null,
   "metadata": {},
   "outputs": [],
   "source": []
  }
 ],
 "metadata": {
  "kernelspec": {
   "display_name": "Python 3",
   "language": "python",
   "name": "python3"
  },
  "language_info": {
   "codemirror_mode": {
    "name": "ipython",
    "version": 3
   },
   "file_extension": ".py",
   "mimetype": "text/x-python",
   "name": "python",
   "nbconvert_exporter": "python",
   "pygments_lexer": "ipython3",
   "version": "3.7.6"
  }
 },
 "nbformat": 4,
 "nbformat_minor": 4
}
